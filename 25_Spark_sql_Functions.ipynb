{
  "nbformat": 4,
  "nbformat_minor": 0,
  "metadata": {
    "colab": {
      "provenance": []
    },
    "kernelspec": {
      "name": "python3",
      "display_name": "Python 3"
    },
    "language_info": {
      "name": "python"
    }
  },
  "cells": [
    {
      "cell_type": "code",
      "execution_count": null,
      "metadata": {
        "colab": {
          "base_uri": "https://localhost:8080/"
        },
        "id": "orTv_0ojPKW_",
        "outputId": "d4ac6a2a-4864-4170-a632-380a7f6d9229"
      },
      "outputs": [
        {
          "output_type": "stream",
          "name": "stdout",
          "text": [
            "Collecting pyspark\n",
            "  Downloading pyspark-3.5.2.tar.gz (317.3 MB)\n",
            "\u001b[2K     \u001b[90m━━━━━━━━━━━━━━━━━━━━━━━━━━━━━━━━━━━━━━━━\u001b[0m \u001b[32m317.3/317.3 MB\u001b[0m \u001b[31m4.6 MB/s\u001b[0m eta \u001b[36m0:00:00\u001b[0m\n",
            "\u001b[?25h  Preparing metadata (setup.py) ... \u001b[?25l\u001b[?25hdone\n",
            "Requirement already satisfied: py4j==0.10.9.7 in /usr/local/lib/python3.10/dist-packages (from pyspark) (0.10.9.7)\n",
            "Building wheels for collected packages: pyspark\n",
            "  Building wheel for pyspark (setup.py) ... \u001b[?25l\u001b[?25hdone\n",
            "  Created wheel for pyspark: filename=pyspark-3.5.2-py2.py3-none-any.whl size=317812365 sha256=3ba6623f33c63bdbfe4809d9ace4975e8f02ca080a46925a751afdc4ee72d2be\n",
            "  Stored in directory: /root/.cache/pip/wheels/34/34/bd/03944534c44b677cd5859f248090daa9fb27b3c8f8e5f49574\n",
            "Successfully built pyspark\n",
            "Installing collected packages: pyspark\n",
            "Successfully installed pyspark-3.5.2\n"
          ]
        }
      ],
      "source": [
        "pip install pyspark"
      ]
    },
    {
      "cell_type": "code",
      "source": [
        "from pyspark.sql import SparkSession\n",
        "from pyspark.sql.functions import lit\n",
        "from datetime import datetime"
      ],
      "metadata": {
        "id": "x-_DqmVAPNcl"
      },
      "execution_count": null,
      "outputs": []
    },
    {
      "cell_type": "code",
      "source": [
        "spark=SparkSession.builder.appName('Pyspark SQL Functions').getOrCreate()"
      ],
      "metadata": {
        "id": "9R5bSMK2PjCq"
      },
      "execution_count": null,
      "outputs": []
    },
    {
      "cell_type": "code",
      "source": [
        "spark"
      ],
      "metadata": {
        "colab": {
          "base_uri": "https://localhost:8080/",
          "height": 219
        },
        "id": "S3BbgyWMPsQL",
        "outputId": "86ee4cc3-6906-44dc-d5b4-e2c15d4287b4"
      },
      "execution_count": null,
      "outputs": [
        {
          "output_type": "execute_result",
          "data": {
            "text/plain": [
              "<pyspark.sql.session.SparkSession at 0x7aef3ae4b490>"
            ],
            "text/html": [
              "\n",
              "            <div>\n",
              "                <p><b>SparkSession - in-memory</b></p>\n",
              "                \n",
              "        <div>\n",
              "            <p><b>SparkContext</b></p>\n",
              "\n",
              "            <p><a href=\"http://41e47d50528e:4040\">Spark UI</a></p>\n",
              "\n",
              "            <dl>\n",
              "              <dt>Version</dt>\n",
              "                <dd><code>v3.5.2</code></dd>\n",
              "              <dt>Master</dt>\n",
              "                <dd><code>local[*]</code></dd>\n",
              "              <dt>AppName</dt>\n",
              "                <dd><code>Pyspark SQL Functions</code></dd>\n",
              "            </dl>\n",
              "        </div>\n",
              "        \n",
              "            </div>\n",
              "        "
            ]
          },
          "metadata": {},
          "execution_count": 4
        }
      ]
    },
    {
      "cell_type": "code",
      "source": [
        "data=[(1,'JohnDoe','2024-08-01',23,1000.50),\n",
        "     (2,'Jane Smith','2024-08-02',34,2000.75),\n",
        "     (3,'Jake White','2024-06-08',22,3600.50),\n",
        "     (4,'Adithya Ram','2024-04-03',12,8500.00),\n",
        "     (5,'Shikha Karmokar','2024-06-07',10,19000.00),\n",
        "     (6,'Gautam gambir','2024-03-09',16,96000.00),\n",
        "     (7,'Pranav Nagwekar','2024-02-12',19,15000.00),\n",
        "     (8,'John Cena','2024-09-04',18,25000.00)]"
      ],
      "metadata": {
        "id": "OO4LusLdPsbp"
      },
      "execution_count": null,
      "outputs": []
    },
    {
      "cell_type": "code",
      "source": [
        "columns=['id','name','dob','age','salary']\n",
        "df=spark.createDataFrame(data,columns)\n",
        "df.show()"
      ],
      "metadata": {
        "colab": {
          "base_uri": "https://localhost:8080/"
        },
        "id": "sNz3rhzfP_Pv",
        "outputId": "437ab8fc-f34d-407e-c658-a578a8c3ba17"
      },
      "execution_count": null,
      "outputs": [
        {
          "output_type": "stream",
          "name": "stdout",
          "text": [
            "+---+---------------+----------+---+-------+\n",
            "| id|           name|       dob|age| salary|\n",
            "+---+---------------+----------+---+-------+\n",
            "|  1|        JohnDoe|2024-08-01| 23| 1000.5|\n",
            "|  2|     Jane Smith|2024-08-02| 34|2000.75|\n",
            "|  3|     Jake White|2024-06-08| 22| 3600.5|\n",
            "|  4|    Adithya Ram|2024-04-03| 12| 8500.0|\n",
            "|  5|Shikha Karmokar|2024-06-07| 10|19000.0|\n",
            "|  6|  Gautam gambir|2024-03-09| 16|96000.0|\n",
            "|  7|Pranav Nagwekar|2024-02-12| 19|15000.0|\n",
            "|  8|      John Cena|2024-09-04| 18|25000.0|\n",
            "+---+---------------+----------+---+-------+\n",
            "\n"
          ]
        }
      ]
    },
    {
      "cell_type": "code",
      "source": [
        "from pyspark.sql.functions import col\n",
        "df.select(col('name')).show()"
      ],
      "metadata": {
        "colab": {
          "base_uri": "https://localhost:8080/"
        },
        "id": "Rf6RQVkvQBmA",
        "outputId": "13c497fd-e128-418b-e849-2e655e3ceeaf"
      },
      "execution_count": null,
      "outputs": [
        {
          "output_type": "stream",
          "name": "stdout",
          "text": [
            "+---------------+\n",
            "|           name|\n",
            "+---------------+\n",
            "|        JohnDoe|\n",
            "|     Jane Smith|\n",
            "|     Jake White|\n",
            "|    Adithya Ram|\n",
            "|Shikha Karmokar|\n",
            "|  Gautam gambir|\n",
            "|Pranav Nagwekar|\n",
            "|      John Cena|\n",
            "+---------------+\n",
            "\n"
          ]
        }
      ]
    },
    {
      "cell_type": "code",
      "source": [
        "df_country_adithya=df.withColumn('country',lit('USA'))\n",
        "df_country_adithya.show()"
      ],
      "metadata": {
        "colab": {
          "base_uri": "https://localhost:8080/"
        },
        "id": "gW00CXnyQBvg",
        "outputId": "e2a19fca-113a-44b2-e612-8a7d7c3393df"
      },
      "execution_count": null,
      "outputs": [
        {
          "output_type": "stream",
          "name": "stdout",
          "text": [
            "+---+---------------+----------+---+-------+-------+\n",
            "| id|           name|       dob|age| salary|country|\n",
            "+---+---------------+----------+---+-------+-------+\n",
            "|  1|        JohnDoe|2024-08-01| 23| 1000.5|    USA|\n",
            "|  2|     Jane Smith|2024-08-02| 34|2000.75|    USA|\n",
            "|  3|     Jake White|2024-06-08| 22| 3600.5|    USA|\n",
            "|  4|    Adithya Ram|2024-04-03| 12| 8500.0|    USA|\n",
            "|  5|Shikha Karmokar|2024-06-07| 10|19000.0|    USA|\n",
            "|  6|  Gautam gambir|2024-03-09| 16|96000.0|    USA|\n",
            "|  7|Pranav Nagwekar|2024-02-12| 19|15000.0|    USA|\n",
            "|  8|      John Cena|2024-09-04| 18|25000.0|    USA|\n",
            "+---+---------------+----------+---+-------+-------+\n",
            "\n"
          ]
        }
      ]
    },
    {
      "cell_type": "code",
      "source": [
        "df.show()"
      ],
      "metadata": {
        "colab": {
          "base_uri": "https://localhost:8080/"
        },
        "id": "kEv15BvEQBz4",
        "outputId": "657b8f5d-9959-4748-fdcb-4ec530f54446"
      },
      "execution_count": null,
      "outputs": [
        {
          "output_type": "stream",
          "name": "stdout",
          "text": [
            "+---+---------------+----------+---+-------+\n",
            "| id|           name|       dob|age| salary|\n",
            "+---+---------------+----------+---+-------+\n",
            "|  1|        JohnDoe|2024-08-01| 23| 1000.5|\n",
            "|  2|     Jane Smith|2024-08-02| 34|2000.75|\n",
            "|  3|     Jake White|2024-06-08| 22| 3600.5|\n",
            "|  4|    Adithya Ram|2024-04-03| 12| 8500.0|\n",
            "|  5|Shikha Karmokar|2024-06-07| 10|19000.0|\n",
            "|  6|  Gautam gambir|2024-03-09| 16|96000.0|\n",
            "|  7|Pranav Nagwekar|2024-02-12| 19|15000.0|\n",
            "|  8|      John Cena|2024-09-04| 18|25000.0|\n",
            "+---+---------------+----------+---+-------+\n",
            "\n"
          ]
        }
      ]
    },
    {
      "cell_type": "code",
      "source": [
        "from pyspark.sql.functions import expr\n",
        "df_age_adithya=df.withColumn('age_plus_5',expr('age + 5'))\n",
        "df_age_adithya.show()"
      ],
      "metadata": {
        "colab": {
          "base_uri": "https://localhost:8080/"
        },
        "id": "6Ygt5CxwSWSX",
        "outputId": "bdf6f5fa-0849-44a6-d7a1-94f9933d5a4c"
      },
      "execution_count": null,
      "outputs": [
        {
          "output_type": "stream",
          "name": "stdout",
          "text": [
            "+---+---------------+----------+---+-------+----------+\n",
            "| id|           name|       dob|age| salary|age_plus_5|\n",
            "+---+---------------+----------+---+-------+----------+\n",
            "|  1|        JohnDoe|2024-08-01| 23| 1000.5|        28|\n",
            "|  2|     Jane Smith|2024-08-02| 34|2000.75|        39|\n",
            "|  3|     Jake White|2024-06-08| 22| 3600.5|        27|\n",
            "|  4|    Adithya Ram|2024-04-03| 12| 8500.0|        17|\n",
            "|  5|Shikha Karmokar|2024-06-07| 10|19000.0|        15|\n",
            "|  6|  Gautam gambir|2024-03-09| 16|96000.0|        21|\n",
            "|  7|Pranav Nagwekar|2024-02-12| 19|15000.0|        24|\n",
            "|  8|      John Cena|2024-09-04| 18|25000.0|        23|\n",
            "+---+---------------+----------+---+-------+----------+\n",
            "\n"
          ]
        }
      ]
    },
    {
      "cell_type": "code",
      "source": [
        "from pyspark.sql.functions import when\n",
        "df_classification=df.withColumn('classification',when(col('age')>=18,\"adult\").otherwise(\"Minor\"))\n",
        "df_classification\n"
      ],
      "metadata": {
        "colab": {
          "base_uri": "https://localhost:8080/"
        },
        "id": "Go9SbHRbSwZf",
        "outputId": "ef74557a-016d-4ce6-84b1-6f7ac29fbfa8"
      },
      "execution_count": null,
      "outputs": [
        {
          "output_type": "execute_result",
          "data": {
            "text/plain": [
              "DataFrame[id: bigint, name: string, dob: string, age: bigint, salary: double, classification: string]"
            ]
          },
          "metadata": {},
          "execution_count": 22
        }
      ]
    },
    {
      "cell_type": "code",
      "source": [
        "from pyspark.sql.functions import substring\n",
        "df_substring_adithya=df.withColumn('First_three_chars',substring(col('name'),1,3))\n",
        "df_substring_adithya.show()"
      ],
      "metadata": {
        "colab": {
          "base_uri": "https://localhost:8080/"
        },
        "id": "5cNDB3OcTbY3",
        "outputId": "05614cc2-607a-4eee-8524-cd625ccdb1db"
      },
      "execution_count": null,
      "outputs": [
        {
          "output_type": "stream",
          "name": "stdout",
          "text": [
            "+---+---------------+----------+---+-------+-----------------+\n",
            "| id|           name|       dob|age| salary|First_three_chars|\n",
            "+---+---------------+----------+---+-------+-----------------+\n",
            "|  1|        JohnDoe|2024-08-01| 23| 1000.5|              Joh|\n",
            "|  2|     Jane Smith|2024-08-02| 34|2000.75|              Jan|\n",
            "|  3|     Jake White|2024-06-08| 22| 3600.5|              Jak|\n",
            "|  4|    Adithya Ram|2024-04-03| 12| 8500.0|              Adi|\n",
            "|  5|Shikha Karmokar|2024-06-07| 10|19000.0|              Shi|\n",
            "|  6|  Gautam gambir|2024-03-09| 16|96000.0|              Gau|\n",
            "|  7|Pranav Nagwekar|2024-02-12| 19|15000.0|              Pra|\n",
            "|  8|      John Cena|2024-09-04| 18|25000.0|              Joh|\n",
            "+---+---------------+----------+---+-------+-----------------+\n",
            "\n"
          ]
        }
      ]
    },
    {
      "cell_type": "code",
      "source": [
        "from pyspark.sql.functions import split\n",
        "df_split_adithya=df.withColumn('name_array',split(col('name'),\" \"))\n",
        "df_split_adithya.show()\n"
      ],
      "metadata": {
        "colab": {
          "base_uri": "https://localhost:8080/"
        },
        "id": "uzOGyqa1TbkF",
        "outputId": "2bfbce8e-8891-4ebf-bd29-8166532a2941"
      },
      "execution_count": null,
      "outputs": [
        {
          "output_type": "stream",
          "name": "stdout",
          "text": [
            "+---+---------------+----------+---+-------+------------------+\n",
            "| id|           name|       dob|age| salary|        name_array|\n",
            "+---+---------------+----------+---+-------+------------------+\n",
            "|  1|        JohnDoe|2024-08-01| 23| 1000.5|         [JohnDoe]|\n",
            "|  2|     Jane Smith|2024-08-02| 34|2000.75|     [Jane, Smith]|\n",
            "|  3|     Jake White|2024-06-08| 22| 3600.5|     [Jake, White]|\n",
            "|  4|    Adithya Ram|2024-04-03| 12| 8500.0|    [Adithya, Ram]|\n",
            "|  5|Shikha Karmokar|2024-06-07| 10|19000.0|[Shikha, Karmokar]|\n",
            "|  6|  Gautam gambir|2024-03-09| 16|96000.0|  [Gautam, gambir]|\n",
            "|  7|Pranav Nagwekar|2024-02-12| 19|15000.0|[Pranav, Nagwekar]|\n",
            "|  8|      John Cena|2024-09-04| 18|25000.0|      [John, Cena]|\n",
            "+---+---------------+----------+---+-------+------------------+\n",
            "\n"
          ]
        }
      ]
    },
    {
      "cell_type": "code",
      "source": [
        "from pyspark.sql.functions import regexp_replace\n",
        "df_replace_adithya=df.withColumn('replaced_name',regexp_replace(col('name'),'Gautam','Gauti'))\n",
        "df_replace_adithya.show()"
      ],
      "metadata": {
        "colab": {
          "base_uri": "https://localhost:8080/"
        },
        "id": "_gZElJurTcEe",
        "outputId": "42c053e2-b933-4a2c-b848-0e2dbe12d71e"
      },
      "execution_count": null,
      "outputs": [
        {
          "output_type": "stream",
          "name": "stdout",
          "text": [
            "+---+---------------+----------+---+-------+---------------+\n",
            "| id|           name|       dob|age| salary|  replaced_name|\n",
            "+---+---------------+----------+---+-------+---------------+\n",
            "|  1|        JohnDoe|2024-08-01| 23| 1000.5|        JohnDoe|\n",
            "|  2|     Jane Smith|2024-08-02| 34|2000.75|     Jane Smith|\n",
            "|  3|     Jake White|2024-06-08| 22| 3600.5|     Jake White|\n",
            "|  4|    Adithya Ram|2024-04-03| 12| 8500.0|    Adithya Ram|\n",
            "|  5|Shikha Karmokar|2024-06-07| 10|19000.0|Shikha Karmokar|\n",
            "|  6|  Gautam gambir|2024-03-09| 16|96000.0|   Gauti gambir|\n",
            "|  7|Pranav Nagwekar|2024-02-12| 19|15000.0|Pranav Nagwekar|\n",
            "|  8|      John Cena|2024-09-04| 18|25000.0|      John Cena|\n",
            "+---+---------------+----------+---+-------+---------------+\n",
            "\n"
          ]
        }
      ]
    },
    {
      "cell_type": "code",
      "source": [
        "from pyspark.sql.functions import count\n",
        "df_count_adithya=df.agg(count('*').alias('total_count'))\n",
        "df_count_adithya.show()"
      ],
      "metadata": {
        "colab": {
          "base_uri": "https://localhost:8080/"
        },
        "id": "uI5fuKqLTcI1",
        "outputId": "7ddd27a3-36bb-47c5-d782-8e134a4a8d77"
      },
      "execution_count": null,
      "outputs": [
        {
          "output_type": "stream",
          "name": "stdout",
          "text": [
            "+-----------+\n",
            "|total_count|\n",
            "+-----------+\n",
            "|          8|\n",
            "+-----------+\n",
            "\n"
          ]
        }
      ]
    },
    {
      "cell_type": "code",
      "source": [
        "from pyspark.sql.functions import sum\n",
        "df_sum_adithya=df.agg(sum('salary').alias('total_salary'))\n",
        "df_sum_adithya.show()"
      ],
      "metadata": {
        "colab": {
          "base_uri": "https://localhost:8080/"
        },
        "id": "9Ami72q2Veve",
        "outputId": "112e25ed-cb04-48eb-8f90-fc9ba819716d"
      },
      "execution_count": null,
      "outputs": [
        {
          "output_type": "stream",
          "name": "stdout",
          "text": [
            "+------------+\n",
            "|total_salary|\n",
            "+------------+\n",
            "|   170101.75|\n",
            "+------------+\n",
            "\n"
          ]
        }
      ]
    },
    {
      "cell_type": "code",
      "source": [
        "from pyspark.sql.functions import avg\n",
        "df_avg=df.agg(avg('age').alias('average_age'))\n",
        "df_avg.show()"
      ],
      "metadata": {
        "colab": {
          "base_uri": "https://localhost:8080/"
        },
        "id": "GQGM5KvrVxzd",
        "outputId": "c4e3189c-bffd-4682-f15e-8a4692d1b5d8"
      },
      "execution_count": null,
      "outputs": [
        {
          "output_type": "stream",
          "name": "stdout",
          "text": [
            "+-----------+\n",
            "|average_age|\n",
            "+-----------+\n",
            "|      19.25|\n",
            "+-----------+\n",
            "\n"
          ]
        }
      ]
    },
    {
      "cell_type": "code",
      "source": [
        "from pyspark.sql.functions import max\n",
        "df_max=df.agg(max('salary').alias('max_salary'))\n",
        "df_max.show()"
      ],
      "metadata": {
        "colab": {
          "base_uri": "https://localhost:8080/"
        },
        "id": "wQRBLg0JWAXN",
        "outputId": "87436ce8-c297-485b-8eab-d362c8db69bd"
      },
      "execution_count": null,
      "outputs": [
        {
          "output_type": "stream",
          "name": "stdout",
          "text": [
            "+----------+\n",
            "|max_salary|\n",
            "+----------+\n",
            "|   96000.0|\n",
            "+----------+\n",
            "\n"
          ]
        }
      ]
    },
    {
      "cell_type": "code",
      "source": [
        "from pyspark.sql.functions import min\n",
        "df_min_adithya=df.agg(min('age').alias('min_age'))\n",
        "df_min_adithya.show()"
      ],
      "metadata": {
        "colab": {
          "base_uri": "https://localhost:8080/"
        },
        "id": "st032AckWPmW",
        "outputId": "0f337ae5-517e-43f4-9b0a-1682b80e7d72"
      },
      "execution_count": null,
      "outputs": [
        {
          "output_type": "stream",
          "name": "stdout",
          "text": [
            "+-------+\n",
            "|min_age|\n",
            "+-------+\n",
            "|     10|\n",
            "+-------+\n",
            "\n"
          ]
        }
      ]
    },
    {
      "cell_type": "code",
      "source": [
        "from pyspark.sql.functions import round\n",
        "df_round_adithya=df.withColumn('rounded_salary',round(col('salary'),0))\n",
        "df_round_adithya.show()"
      ],
      "metadata": {
        "colab": {
          "base_uri": "https://localhost:8080/"
        },
        "id": "ID0iFByjXJ_y",
        "outputId": "d90efccb-ad26-44ee-f5bf-c05513da1d0f"
      },
      "execution_count": null,
      "outputs": [
        {
          "output_type": "stream",
          "name": "stdout",
          "text": [
            "+---+---------------+----------+---+-------+--------------+\n",
            "| id|           name|       dob|age| salary|rounded_salary|\n",
            "+---+---------------+----------+---+-------+--------------+\n",
            "|  1|        JohnDoe|2024-08-01| 23| 1000.5|        1001.0|\n",
            "|  2|     Jane Smith|2024-08-02| 34|2000.75|        2001.0|\n",
            "|  3|     Jake White|2024-06-08| 22| 3600.5|        3601.0|\n",
            "|  4|    Adithya Ram|2024-04-03| 12| 8500.0|        8500.0|\n",
            "|  5|Shikha Karmokar|2024-06-07| 10|19000.0|       19000.0|\n",
            "|  6|  Gautam gambir|2024-03-09| 16|96000.0|       96000.0|\n",
            "|  7|Pranav Nagwekar|2024-02-12| 19|15000.0|       15000.0|\n",
            "|  8|      John Cena|2024-09-04| 18|25000.0|       25000.0|\n",
            "+---+---------------+----------+---+-------+--------------+\n",
            "\n"
          ]
        }
      ]
    },
    {
      "cell_type": "code",
      "source": [
        "#date_format\n",
        "#Formats the 'dob' column as MM/dd/yyyy.\n",
        "from pyspark.sql.functions import date_format\n",
        "df_date_format_adithya=df.withColumn('formatted_dob',date_format(col('dob'),'MM/dd/yyyy'))\n",
        "df_date_format_adithya.show()\n"
      ],
      "metadata": {
        "colab": {
          "base_uri": "https://localhost:8080/"
        },
        "id": "NErVDcN7bFa2",
        "outputId": "fd3eb10a-5fe6-4684-de42-e0319d6bd6b4"
      },
      "execution_count": null,
      "outputs": [
        {
          "output_type": "stream",
          "name": "stdout",
          "text": [
            "+---+---------------+----------+---+-------+-------------+\n",
            "| id|           name|       dob|age| salary|formatted_dob|\n",
            "+---+---------------+----------+---+-------+-------------+\n",
            "|  1|        JohnDoe|2024-08-01| 23| 1000.5|   08/01/2024|\n",
            "|  2|     Jane Smith|2024-08-02| 34|2000.75|   08/02/2024|\n",
            "|  3|     Jake White|2024-06-08| 22| 3600.5|   06/08/2024|\n",
            "|  4|    Adithya Ram|2024-04-03| 12| 8500.0|   04/03/2024|\n",
            "|  5|Shikha Karmokar|2024-06-07| 10|19000.0|   06/07/2024|\n",
            "|  6|  Gautam gambir|2024-03-09| 16|96000.0|   03/09/2024|\n",
            "|  7|Pranav Nagwekar|2024-02-12| 19|15000.0|   02/12/2024|\n",
            "|  8|      John Cena|2024-09-04| 18|25000.0|   09/04/2024|\n",
            "+---+---------------+----------+---+-------+-------------+\n",
            "\n"
          ]
        }
      ]
    },
    {
      "cell_type": "code",
      "source": [
        "#current_date\n",
        "from pyspark.sql.functions import current_date\n",
        "df_current_date_adithya=df.withColumn('current_date',current_date())\n",
        "df_current_date_adithya.show()\n"
      ],
      "metadata": {
        "colab": {
          "base_uri": "https://localhost:8080/"
        },
        "id": "LRVqiNzQbl7V",
        "outputId": "9751e284-1346-4f80-9db6-0bdf9f35241c"
      },
      "execution_count": null,
      "outputs": [
        {
          "output_type": "stream",
          "name": "stdout",
          "text": [
            "+---+---------------+----------+---+-------+------------+\n",
            "| id|           name|       dob|age| salary|current_date|\n",
            "+---+---------------+----------+---+-------+------------+\n",
            "|  1|        JohnDoe|2024-08-01| 23| 1000.5|  2024-08-17|\n",
            "|  2|     Jane Smith|2024-08-02| 34|2000.75|  2024-08-17|\n",
            "|  3|     Jake White|2024-06-08| 22| 3600.5|  2024-08-17|\n",
            "|  4|    Adithya Ram|2024-04-03| 12| 8500.0|  2024-08-17|\n",
            "|  5|Shikha Karmokar|2024-06-07| 10|19000.0|  2024-08-17|\n",
            "|  6|  Gautam gambir|2024-03-09| 16|96000.0|  2024-08-17|\n",
            "|  7|Pranav Nagwekar|2024-02-12| 19|15000.0|  2024-08-17|\n",
            "|  8|      John Cena|2024-09-04| 18|25000.0|  2024-08-17|\n",
            "+---+---------------+----------+---+-------+------------+\n",
            "\n"
          ]
        }
      ]
    },
    {
      "cell_type": "code",
      "source": [
        "from pyspark.sql.functions import current_timestamp\n",
        "df_current_timestamp_adithya=df.withColumn('current_timestamp',current_timestamp())\n",
        "df_current_timestamp_adithya.show(truncate=False)"
      ],
      "metadata": {
        "colab": {
          "base_uri": "https://localhost:8080/"
        },
        "id": "uP7uGPDGXgqD",
        "outputId": "6730925f-fe2f-4e27-96f9-dde1d5dbbe0b"
      },
      "execution_count": null,
      "outputs": [
        {
          "output_type": "stream",
          "name": "stdout",
          "text": [
            "+---+---------------+----------+---+-------+--------------------------+\n",
            "|id |name           |dob       |age|salary |current_timestamp         |\n",
            "+---+---------------+----------+---+-------+--------------------------+\n",
            "|1  |JohnDoe        |2024-08-01|23 |1000.5 |2024-08-17 08:06:29.641829|\n",
            "|2  |Jane Smith     |2024-08-02|34 |2000.75|2024-08-17 08:06:29.641829|\n",
            "|3  |Jake White     |2024-06-08|22 |3600.5 |2024-08-17 08:06:29.641829|\n",
            "|4  |Adithya Ram    |2024-04-03|12 |8500.0 |2024-08-17 08:06:29.641829|\n",
            "|5  |Shikha Karmokar|2024-06-07|10 |19000.0|2024-08-17 08:06:29.641829|\n",
            "|6  |Gautam gambir  |2024-03-09|16 |96000.0|2024-08-17 08:06:29.641829|\n",
            "|7  |Pranav Nagwekar|2024-02-12|19 |15000.0|2024-08-17 08:06:29.641829|\n",
            "|8  |John Cena      |2024-09-04|18 |25000.0|2024-08-17 08:06:29.641829|\n",
            "+---+---------------+----------+---+-------+--------------------------+\n",
            "\n"
          ]
        }
      ]
    },
    {
      "cell_type": "code",
      "source": [
        "from pyspark.sql.functions import year,month,dayofmonth\n",
        "df_year=df.withColumn('year',year(col('dob')))\n",
        "df_year.show()"
      ],
      "metadata": {
        "colab": {
          "base_uri": "https://localhost:8080/"
        },
        "id": "X5nBjCyYX6BR",
        "outputId": "902b6226-e535-46b4-9b5d-c37024e1f89d"
      },
      "execution_count": null,
      "outputs": [
        {
          "output_type": "stream",
          "name": "stdout",
          "text": [
            "+---+---------------+----------+---+-------+----+\n",
            "| id|           name|       dob|age| salary|year|\n",
            "+---+---------------+----------+---+-------+----+\n",
            "|  1|        JohnDoe|2024-08-01| 23| 1000.5|2024|\n",
            "|  2|     Jane Smith|2024-08-02| 34|2000.75|2024|\n",
            "|  3|     Jake White|2024-06-08| 22| 3600.5|2024|\n",
            "|  4|    Adithya Ram|2024-04-03| 12| 8500.0|2024|\n",
            "|  5|Shikha Karmokar|2024-06-07| 10|19000.0|2024|\n",
            "|  6|  Gautam gambir|2024-03-09| 16|96000.0|2024|\n",
            "|  7|Pranav Nagwekar|2024-02-12| 19|15000.0|2024|\n",
            "|  8|      John Cena|2024-09-04| 18|25000.0|2024|\n",
            "+---+---------------+----------+---+-------+----+\n",
            "\n"
          ]
        }
      ]
    },
    {
      "cell_type": "code",
      "source": [
        "from pyspark.sql.functions import date_add\n",
        "df_date_add_adithya=df.withColumn('date_before_10_days',date_sub(col('dob'),10))\n",
        "df_date_add_adithya.show()"
      ],
      "metadata": {
        "colab": {
          "base_uri": "https://localhost:8080/"
        },
        "id": "tzo8KEMAaFjA",
        "outputId": "7bc4f682-f009-4b2e-a96a-58d1af5a70fe"
      },
      "execution_count": null,
      "outputs": [
        {
          "output_type": "stream",
          "name": "stdout",
          "text": [
            "+---+---------------+----------+---+-------+-------------------+\n",
            "| id|           name|       dob|age| salary|date_before_10_days|\n",
            "+---+---------------+----------+---+-------+-------------------+\n",
            "|  1|        JohnDoe|2024-08-01| 23| 1000.5|         2024-07-22|\n",
            "|  2|     Jane Smith|2024-08-02| 34|2000.75|         2024-07-23|\n",
            "|  3|     Jake White|2024-06-08| 22| 3600.5|         2024-05-29|\n",
            "|  4|    Adithya Ram|2024-04-03| 12| 8500.0|         2024-03-24|\n",
            "|  5|Shikha Karmokar|2024-06-07| 10|19000.0|         2024-05-28|\n",
            "|  6|  Gautam gambir|2024-03-09| 16|96000.0|         2024-02-28|\n",
            "|  7|Pranav Nagwekar|2024-02-12| 19|15000.0|         2024-02-02|\n",
            "|  8|      John Cena|2024-09-04| 18|25000.0|         2024-08-25|\n",
            "+---+---------------+----------+---+-------+-------------------+\n",
            "\n"
          ]
        }
      ]
    },
    {
      "cell_type": "code",
      "source": [
        "#date_sub\n",
        "#Subtracts 10 days from the 'dob' column\n",
        "from pyspark.sql.functions import date_sub\n",
        "df_date_sub_adithya=df.withColumn('date_before_10_days',date_sub(col('dob'),10))\n",
        "df_date_sub_adithya.show()"
      ],
      "metadata": {
        "colab": {
          "base_uri": "https://localhost:8080/"
        },
        "id": "dlGT3bBoYKEo",
        "outputId": "aa8d4954-762b-4fc9-98c6-d13c14d4ae1a"
      },
      "execution_count": null,
      "outputs": [
        {
          "output_type": "stream",
          "name": "stdout",
          "text": [
            "+---+---------------+----------+---+-------+-------------------+\n",
            "| id|           name|       dob|age| salary|date_before_10_days|\n",
            "+---+---------------+----------+---+-------+-------------------+\n",
            "|  1|        JohnDoe|2024-08-01| 23| 1000.5|         2024-07-22|\n",
            "|  2|     Jane Smith|2024-08-02| 34|2000.75|         2024-07-23|\n",
            "|  3|     Jake White|2024-06-08| 22| 3600.5|         2024-05-29|\n",
            "|  4|    Adithya Ram|2024-04-03| 12| 8500.0|         2024-03-24|\n",
            "|  5|Shikha Karmokar|2024-06-07| 10|19000.0|         2024-05-28|\n",
            "|  6|  Gautam gambir|2024-03-09| 16|96000.0|         2024-02-28|\n",
            "|  7|Pranav Nagwekar|2024-02-12| 19|15000.0|         2024-02-02|\n",
            "|  8|      John Cena|2024-09-04| 18|25000.0|         2024-08-25|\n",
            "+---+---------------+----------+---+-------+-------------------+\n",
            "\n"
          ]
        }
      ]
    },
    {
      "cell_type": "code",
      "source": [
        "#datediff\n",
        "#Calculates the fifference in days between the current date and the 'dob'.\n",
        "from pyspark.sql.functions import datediff\n",
        "df_date_diff_adithya=df.withColumn('days_since_dob',datediff(current_date(),col('dob')))\n",
        "df_date_diff_adithya.show()"
      ],
      "metadata": {
        "colab": {
          "base_uri": "https://localhost:8080/"
        },
        "id": "p5g22dCDYiZA",
        "outputId": "86e54d85-b2a0-46d6-f8f3-141234cbe321"
      },
      "execution_count": null,
      "outputs": [
        {
          "output_type": "stream",
          "name": "stdout",
          "text": [
            "+---+---------------+----------+---+-------+--------------+\n",
            "| id|           name|       dob|age| salary|days_since_dob|\n",
            "+---+---------------+----------+---+-------+--------------+\n",
            "|  1|        JohnDoe|2024-08-01| 23| 1000.5|            16|\n",
            "|  2|     Jane Smith|2024-08-02| 34|2000.75|            15|\n",
            "|  3|     Jake White|2024-06-08| 22| 3600.5|            70|\n",
            "|  4|    Adithya Ram|2024-04-03| 12| 8500.0|           136|\n",
            "|  5|Shikha Karmokar|2024-06-07| 10|19000.0|            71|\n",
            "|  6|  Gautam gambir|2024-03-09| 16|96000.0|           161|\n",
            "|  7|Pranav Nagwekar|2024-02-12| 19|15000.0|           187|\n",
            "|  8|      John Cena|2024-09-04| 18|25000.0|           -18|\n",
            "+---+---------------+----------+---+-------+--------------+\n",
            "\n"
          ]
        }
      ]
    },
    {
      "cell_type": "code",
      "source": [
        "from pyspark.sql.functions import to_date\n",
        "df_to_date_adithya=df.withColumn('dob_as_date',to_date(col('dob'),'yyyy-MM-dd'))\n",
        "df_to_date_adithya.show()"
      ],
      "metadata": {
        "colab": {
          "base_uri": "https://localhost:8080/"
        },
        "id": "fFAm5OEcY7P2",
        "outputId": "2e3d0373-cfdf-42b5-95c4-3dfc5872e802"
      },
      "execution_count": null,
      "outputs": [
        {
          "output_type": "stream",
          "name": "stdout",
          "text": [
            "+---+---------------+----------+---+-------+-----------+\n",
            "| id|           name|       dob|age| salary|dob_as_date|\n",
            "+---+---------------+----------+---+-------+-----------+\n",
            "|  1|        JohnDoe|2024-08-01| 23| 1000.5| 2024-08-01|\n",
            "|  2|     Jane Smith|2024-08-02| 34|2000.75| 2024-08-02|\n",
            "|  3|     Jake White|2024-06-08| 22| 3600.5| 2024-06-08|\n",
            "|  4|    Adithya Ram|2024-04-03| 12| 8500.0| 2024-04-03|\n",
            "|  5|Shikha Karmokar|2024-06-07| 10|19000.0| 2024-06-07|\n",
            "|  6|  Gautam gambir|2024-03-09| 16|96000.0| 2024-03-09|\n",
            "|  7|Pranav Nagwekar|2024-02-12| 19|15000.0| 2024-02-12|\n",
            "|  8|      John Cena|2024-09-04| 18|25000.0| 2024-09-04|\n",
            "+---+---------------+----------+---+-------+-----------+\n",
            "\n"
          ]
        }
      ]
    },
    {
      "cell_type": "code",
      "source": [
        "#to_timestamp\n",
        "#Convertsthe'dob' column from string to timestamp fortmat\n",
        "from pyspark.sql.functions import to_timestamp\n",
        "df_to_timestamp_adithya=df.withColumn('dob_as_timestamp',to_timestamp(col('dob'),'yyyy-MM-dd'))\n",
        "df_to_timestamp_adithya.show(truncate=False)"
      ],
      "metadata": {
        "colab": {
          "base_uri": "https://localhost:8080/"
        },
        "id": "37E6sMrTcSvy",
        "outputId": "bc72d771-af95-417a-ead0-5d7c2ced7288"
      },
      "execution_count": null,
      "outputs": [
        {
          "output_type": "stream",
          "name": "stdout",
          "text": [
            "+---+---------------+----------+---+-------+-------------------+\n",
            "|id |name           |dob       |age|salary |dob_as_timestamp   |\n",
            "+---+---------------+----------+---+-------+-------------------+\n",
            "|1  |JohnDoe        |2024-08-01|23 |1000.5 |2024-08-01 00:00:00|\n",
            "|2  |Jane Smith     |2024-08-02|34 |2000.75|2024-08-02 00:00:00|\n",
            "|3  |Jake White     |2024-06-08|22 |3600.5 |2024-06-08 00:00:00|\n",
            "|4  |Adithya Ram    |2024-04-03|12 |8500.0 |2024-04-03 00:00:00|\n",
            "|5  |Shikha Karmokar|2024-06-07|10 |19000.0|2024-06-07 00:00:00|\n",
            "|6  |Gautam gambir  |2024-03-09|16 |96000.0|2024-03-09 00:00:00|\n",
            "|7  |Pranav Nagwekar|2024-02-12|19 |15000.0|2024-02-12 00:00:00|\n",
            "|8  |John Cena      |2024-09-04|18 |25000.0|2024-09-04 00:00:00|\n",
            "+---+---------------+----------+---+-------+-------------------+\n",
            "\n"
          ]
        }
      ]
    },
    {
      "cell_type": "code",
      "source": [
        "#window\n",
        "#aggregates the salary over a sliding window of one day\n",
        "from pyspark.sql.functions import window\n",
        "df_window_adithya=df.withColumn('window',window(col('dob'),'1 day'))\n",
        "df_window_adithya.show(truncate=False)"
      ],
      "metadata": {
        "colab": {
          "base_uri": "https://localhost:8080/"
        },
        "id": "lFyTcXMhcxFK",
        "outputId": "6cd73324-6b19-4ef5-8fda-0f19baed15af"
      },
      "execution_count": null,
      "outputs": [
        {
          "output_type": "stream",
          "name": "stdout",
          "text": [
            "+---+---------------+----------+---+-------+------------------------------------------+\n",
            "|id |name           |dob       |age|salary |window                                    |\n",
            "+---+---------------+----------+---+-------+------------------------------------------+\n",
            "|1  |JohnDoe        |2024-08-01|23 |1000.5 |{2024-08-01 00:00:00, 2024-08-02 00:00:00}|\n",
            "|2  |Jane Smith     |2024-08-02|34 |2000.75|{2024-08-02 00:00:00, 2024-08-03 00:00:00}|\n",
            "|3  |Jake White     |2024-06-08|22 |3600.5 |{2024-06-08 00:00:00, 2024-06-09 00:00:00}|\n",
            "|4  |Adithya Ram    |2024-04-03|12 |8500.0 |{2024-04-03 00:00:00, 2024-04-04 00:00:00}|\n",
            "|5  |Shikha Karmokar|2024-06-07|10 |19000.0|{2024-06-07 00:00:00, 2024-06-08 00:00:00}|\n",
            "|6  |Gautam gambir  |2024-03-09|16 |96000.0|{2024-03-09 00:00:00, 2024-03-10 00:00:00}|\n",
            "|7  |Pranav Nagwekar|2024-02-12|19 |15000.0|{2024-02-12 00:00:00, 2024-02-13 00:00:00}|\n",
            "|8  |John Cena      |2024-09-04|18 |25000.0|{2024-09-04 00:00:00, 2024-09-05 00:00:00}|\n",
            "+---+---------------+----------+---+-------+------------------------------------------+\n",
            "\n"
          ]
        }
      ]
    },
    {
      "cell_type": "code",
      "source": [
        "#rank,dense_rank,row_number\n",
        "#applies ranking functions to the salary column\n",
        "from pyspark.sql.window import Window\n",
        "from pyspark.sql.functions import rank,dense_rank,row_number\n",
        "windowSpec=Window.orderBy(col('salary').desc())\n",
        "df.withColumn('rank',rank().over(windowSpec)).withColumn('dense_rank',dense_rank().over(windowSpec)).withColumn('row_number',row_number().over(windowSpec)).show()\n"
      ],
      "metadata": {
        "colab": {
          "base_uri": "https://localhost:8080/"
        },
        "id": "zsv1KKaodWdi",
        "outputId": "90bc4b6e-1c63-4731-8b78-f5be702e4e51"
      },
      "execution_count": null,
      "outputs": [
        {
          "output_type": "stream",
          "name": "stdout",
          "text": [
            "+---+---------------+----------+---+-------+----+----------+----------+\n",
            "| id|           name|       dob|age| salary|rank|dense_rank|row_number|\n",
            "+---+---------------+----------+---+-------+----+----------+----------+\n",
            "|  6|  Gautam gambir|2024-03-09| 16|96000.0|   1|         1|         1|\n",
            "|  8|      John Cena|2024-09-04| 18|25000.0|   2|         2|         2|\n",
            "|  5|Shikha Karmokar|2024-06-07| 10|19000.0|   3|         3|         3|\n",
            "|  7|Pranav Nagwekar|2024-02-12| 19|15000.0|   4|         4|         4|\n",
            "|  4|    Adithya Ram|2024-04-03| 12| 8500.0|   5|         5|         5|\n",
            "|  3|     Jake White|2024-06-08| 22| 3600.5|   6|         6|         6|\n",
            "|  2|     Jane Smith|2024-08-02| 34|2000.75|   7|         7|         7|\n",
            "|  1|        JohnDoe|2024-08-01| 23| 1000.5|   8|         8|         8|\n",
            "+---+---------------+----------+---+-------+----+----------+----------+\n",
            "\n"
          ]
        }
      ]
    },
    {
      "cell_type": "code",
      "source": [
        "#array\n",
        "#creates a new array column.\n",
        "from pyspark.sql.functions import array\n",
        "df_array_adithya=df.withColumn('array_column',array(col('id'),col('age')))\n",
        "df_array_adithya.show()"
      ],
      "metadata": {
        "colab": {
          "base_uri": "https://localhost:8080/"
        },
        "id": "92V4nxz2fCyY",
        "outputId": "b96eb748-80ea-4e50-dc74-a36ba8ef29f6"
      },
      "execution_count": null,
      "outputs": [
        {
          "output_type": "stream",
          "name": "stdout",
          "text": [
            "+---+---------------+----------+---+-------+------------+\n",
            "| id|           name|       dob|age| salary|array_column|\n",
            "+---+---------------+----------+---+-------+------------+\n",
            "|  1|        JohnDoe|2024-08-01| 23| 1000.5|     [1, 23]|\n",
            "|  2|     Jane Smith|2024-08-02| 34|2000.75|     [2, 34]|\n",
            "|  3|     Jake White|2024-06-08| 22| 3600.5|     [3, 22]|\n",
            "|  4|    Adithya Ram|2024-04-03| 12| 8500.0|     [4, 12]|\n",
            "|  5|Shikha Karmokar|2024-06-07| 10|19000.0|     [5, 10]|\n",
            "|  6|  Gautam gambir|2024-03-09| 16|96000.0|     [6, 16]|\n",
            "|  7|Pranav Nagwekar|2024-02-12| 19|15000.0|     [7, 19]|\n",
            "|  8|      John Cena|2024-09-04| 18|25000.0|     [8, 18]|\n",
            "+---+---------------+----------+---+-------+------------+\n",
            "\n"
          ]
        }
      ]
    },
    {
      "cell_type": "code",
      "source": [
        "#array_contains\n",
        "# checks if a specified element exists in an array column\n",
        "from pyspark.sql.functions import array_contains\n",
        "df_array_Contains_adithya=df.withColumn('contains_id_1',array_contains(array(col('id')),1))\n",
        "\n",
        "df_array_Contains_adithya.show()\n",
        "\n"
      ],
      "metadata": {
        "colab": {
          "base_uri": "https://localhost:8080/"
        },
        "id": "kdglsguufc1X",
        "outputId": "eb327cd6-3e24-4124-c53e-69c71b94e147"
      },
      "execution_count": null,
      "outputs": [
        {
          "output_type": "stream",
          "name": "stdout",
          "text": [
            "+---+---------------+----------+---+-------+-------------+\n",
            "| id|           name|       dob|age| salary|contains_id_1|\n",
            "+---+---------------+----------+---+-------+-------------+\n",
            "|  1|        JohnDoe|2024-08-01| 23| 1000.5|         true|\n",
            "|  2|     Jane Smith|2024-08-02| 34|2000.75|        false|\n",
            "|  3|     Jake White|2024-06-08| 22| 3600.5|        false|\n",
            "|  4|    Adithya Ram|2024-04-03| 12| 8500.0|        false|\n",
            "|  5|Shikha Karmokar|2024-06-07| 10|19000.0|        false|\n",
            "|  6|  Gautam gambir|2024-03-09| 16|96000.0|        false|\n",
            "|  7|Pranav Nagwekar|2024-02-12| 19|15000.0|        false|\n",
            "|  8|      John Cena|2024-09-04| 18|25000.0|        false|\n",
            "+---+---------------+----------+---+-------+-------------+\n",
            "\n"
          ]
        }
      ]
    },
    {
      "cell_type": "code",
      "source": [
        "#explode\n",
        "#creates a new row for each element in the given array or map column\n",
        "from pyspark.sql.functions import explode\n",
        "df_explode_adithya=df.withColumn('exploded_array',explode(array(col('id'),col('age'))))\n",
        "df_explode_adithya.show()"
      ],
      "metadata": {
        "colab": {
          "base_uri": "https://localhost:8080/"
        },
        "id": "VsphUyv_gEE1",
        "outputId": "1a36bdb1-c48c-44c3-f5de-ceed18dc2298"
      },
      "execution_count": null,
      "outputs": [
        {
          "output_type": "stream",
          "name": "stdout",
          "text": [
            "+---+---------------+----------+---+-------+--------------+\n",
            "| id|           name|       dob|age| salary|exploded_array|\n",
            "+---+---------------+----------+---+-------+--------------+\n",
            "|  1|        JohnDoe|2024-08-01| 23| 1000.5|             1|\n",
            "|  1|        JohnDoe|2024-08-01| 23| 1000.5|            23|\n",
            "|  2|     Jane Smith|2024-08-02| 34|2000.75|             2|\n",
            "|  2|     Jane Smith|2024-08-02| 34|2000.75|            34|\n",
            "|  3|     Jake White|2024-06-08| 22| 3600.5|             3|\n",
            "|  3|     Jake White|2024-06-08| 22| 3600.5|            22|\n",
            "|  4|    Adithya Ram|2024-04-03| 12| 8500.0|             4|\n",
            "|  4|    Adithya Ram|2024-04-03| 12| 8500.0|            12|\n",
            "|  5|Shikha Karmokar|2024-06-07| 10|19000.0|             5|\n",
            "|  5|Shikha Karmokar|2024-06-07| 10|19000.0|            10|\n",
            "|  6|  Gautam gambir|2024-03-09| 16|96000.0|             6|\n",
            "|  6|  Gautam gambir|2024-03-09| 16|96000.0|            16|\n",
            "|  7|Pranav Nagwekar|2024-02-12| 19|15000.0|             7|\n",
            "|  7|Pranav Nagwekar|2024-02-12| 19|15000.0|            19|\n",
            "|  8|      John Cena|2024-09-04| 18|25000.0|             8|\n",
            "|  8|      John Cena|2024-09-04| 18|25000.0|            18|\n",
            "+---+---------------+----------+---+-------+--------------+\n",
            "\n"
          ]
        }
      ]
    },
    {
      "cell_type": "code",
      "source": [
        "#map\n",
        "#creates a new map column\n",
        "from pyspark.sql.functions import create_map\n",
        "df_map_adithya=df.withColumn('map_column',create_map(lit('name'),col('name'),lit('age'),col('age')))\n",
        "df_map_adithya.show(truncate=False)"
      ],
      "metadata": {
        "colab": {
          "base_uri": "https://localhost:8080/"
        },
        "id": "SbPA5SB5hIg1",
        "outputId": "bbf423ce-845e-4de8-9604-2392ade5253d"
      },
      "execution_count": null,
      "outputs": [
        {
          "output_type": "stream",
          "name": "stdout",
          "text": [
            "+---+---------------+----------+---+-------+------------------------------------+\n",
            "|id |name           |dob       |age|salary |map_column                          |\n",
            "+---+---------------+----------+---+-------+------------------------------------+\n",
            "|1  |JohnDoe        |2024-08-01|23 |1000.5 |{name -> JohnDoe, age -> 23}        |\n",
            "|2  |Jane Smith     |2024-08-02|34 |2000.75|{name -> Jane Smith, age -> 34}     |\n",
            "|3  |Jake White     |2024-06-08|22 |3600.5 |{name -> Jake White, age -> 22}     |\n",
            "|4  |Adithya Ram    |2024-04-03|12 |8500.0 |{name -> Adithya Ram, age -> 12}    |\n",
            "|5  |Shikha Karmokar|2024-06-07|10 |19000.0|{name -> Shikha Karmokar, age -> 10}|\n",
            "|6  |Gautam gambir  |2024-03-09|16 |96000.0|{name -> Gautam gambir, age -> 16}  |\n",
            "|7  |Pranav Nagwekar|2024-02-12|19 |15000.0|{name -> Pranav Nagwekar, age -> 19}|\n",
            "|8  |John Cena      |2024-09-04|18 |25000.0|{name -> John Cena, age -> 18}      |\n",
            "+---+---------------+----------+---+-------+------------------------------------+\n",
            "\n"
          ]
        }
      ]
    },
    {
      "cell_type": "code",
      "source": [
        "#coalesce\n",
        "#returns the first non null value among the given columns\n",
        "from pyspark.sql.functions import coalesce\n",
        "df_coolesce_adithya=df.withColumn('coolesced_value',coalesce(col('name'),col('age')))\n",
        "df_coolesce_adithya.show()"
      ],
      "metadata": {
        "colab": {
          "base_uri": "https://localhost:8080/"
        },
        "id": "0YRomXUAh4lt",
        "outputId": "8ae7b397-ccf2-4e43-e91c-14c6d6296ec3"
      },
      "execution_count": null,
      "outputs": [
        {
          "output_type": "stream",
          "name": "stdout",
          "text": [
            "+---+---------------+----------+---+-------+---------------+\n",
            "| id|           name|       dob|age| salary|coolesced_value|\n",
            "+---+---------------+----------+---+-------+---------------+\n",
            "|  1|        JohnDoe|2024-08-01| 23| 1000.5|        JohnDoe|\n",
            "|  2|     Jane Smith|2024-08-02| 34|2000.75|     Jane Smith|\n",
            "|  3|     Jake White|2024-06-08| 22| 3600.5|     Jake White|\n",
            "|  4|    Adithya Ram|2024-04-03| 12| 8500.0|    Adithya Ram|\n",
            "|  5|Shikha Karmokar|2024-06-07| 10|19000.0|Shikha Karmokar|\n",
            "|  6|  Gautam gambir|2024-03-09| 16|96000.0|  Gautam gambir|\n",
            "|  7|Pranav Nagwekar|2024-02-12| 19|15000.0|Pranav Nagwekar|\n",
            "|  8|      John Cena|2024-09-04| 18|25000.0|      John Cena|\n",
            "+---+---------------+----------+---+-------+---------------+\n",
            "\n"
          ]
        }
      ]
    },
    {
      "cell_type": "code",
      "source": [
        "#isnull\n",
        "#checks if the column is null\n",
        "from pyspark.sql.functions import isnull\n",
        "df_isnull_adithya=df.withColumn('is_name_null',isnull(col('name')))\n",
        "df_isnull_adithya.show()"
      ],
      "metadata": {
        "colab": {
          "base_uri": "https://localhost:8080/"
        },
        "id": "1miAOjklikxF",
        "outputId": "231edd98-ba7d-49f8-afff-890c79d3eaba"
      },
      "execution_count": null,
      "outputs": [
        {
          "output_type": "stream",
          "name": "stdout",
          "text": [
            "+---+---------------+----------+---+-------+------------+\n",
            "| id|           name|       dob|age| salary|is_name_null|\n",
            "+---+---------------+----------+---+-------+------------+\n",
            "|  1|        JohnDoe|2024-08-01| 23| 1000.5|       false|\n",
            "|  2|     Jane Smith|2024-08-02| 34|2000.75|       false|\n",
            "|  3|     Jake White|2024-06-08| 22| 3600.5|       false|\n",
            "|  4|    Adithya Ram|2024-04-03| 12| 8500.0|       false|\n",
            "|  5|Shikha Karmokar|2024-06-07| 10|19000.0|       false|\n",
            "|  6|  Gautam gambir|2024-03-09| 16|96000.0|       false|\n",
            "|  7|Pranav Nagwekar|2024-02-12| 19|15000.0|       false|\n",
            "|  8|      John Cena|2024-09-04| 18|25000.0|       false|\n",
            "+---+---------------+----------+---+-------+------------+\n",
            "\n"
          ]
        }
      ]
    },
    {
      "cell_type": "code",
      "source": [
        "#isnan\n",
        "#checks if the column is nan\n",
        "from pyspark.sql.functions import isnan\n",
        "df_isnan_adithya=df.withColumn('is_ge_nan',isnan(col('age')))\n",
        "df_isnan_adithya.show()"
      ],
      "metadata": {
        "colab": {
          "base_uri": "https://localhost:8080/"
        },
        "id": "yPryCzCXjPd0",
        "outputId": "b535f764-1f5e-48c4-aae3-4c1743ae4bad"
      },
      "execution_count": null,
      "outputs": [
        {
          "output_type": "stream",
          "name": "stdout",
          "text": [
            "+---+---------------+----------+---+-------+---------+\n",
            "| id|           name|       dob|age| salary|is_ge_nan|\n",
            "+---+---------------+----------+---+-------+---------+\n",
            "|  1|        JohnDoe|2024-08-01| 23| 1000.5|    false|\n",
            "|  2|     Jane Smith|2024-08-02| 34|2000.75|    false|\n",
            "|  3|     Jake White|2024-06-08| 22| 3600.5|    false|\n",
            "|  4|    Adithya Ram|2024-04-03| 12| 8500.0|    false|\n",
            "|  5|Shikha Karmokar|2024-06-07| 10|19000.0|    false|\n",
            "|  6|  Gautam gambir|2024-03-09| 16|96000.0|    false|\n",
            "|  7|Pranav Nagwekar|2024-02-12| 19|15000.0|    false|\n",
            "|  8|      John Cena|2024-09-04| 18|25000.0|    false|\n",
            "+---+---------------+----------+---+-------+---------+\n",
            "\n"
          ]
        }
      ]
    },
    {
      "cell_type": "code",
      "source": [
        "#sha2\n",
        "#Applies the sha2 hash function to the column\n",
        "from pyspark.sql.functions import sha2\n",
        "df_sha2_adithya=df.withColumn('sha2_hash',sha2(col('name'),256))\n",
        "df_sha2_adithya.show(truncate=False)"
      ],
      "metadata": {
        "colab": {
          "base_uri": "https://localhost:8080/"
        },
        "id": "rex4nl_ojiZS",
        "outputId": "033d21b4-94f2-4716-b2bd-3054d19217d2"
      },
      "execution_count": null,
      "outputs": [
        {
          "output_type": "stream",
          "name": "stdout",
          "text": [
            "+---+---------------+----------+---+-------+----------------------------------------------------------------+\n",
            "|id |name           |dob       |age|salary |sha2_hash                                                       |\n",
            "+---+---------------+----------+---+-------+----------------------------------------------------------------+\n",
            "|1  |JohnDoe        |2024-08-01|23 |1000.5 |63d65bfe030ff5cbaac27bb8c9215bf7b1c635b3a8ed7ee9ad45eccf9e4b2e2f|\n",
            "|2  |Jane Smith     |2024-08-02|34 |2000.75|a2dd3acadb1c9dcd956216993056a7f50a9db6e3a16c60b35482139b5349c288|\n",
            "|3  |Jake White     |2024-06-08|22 |3600.5 |46dae60ac51d1dfbb195b62ca2a6c4fd76f0d0ef5e32ee32a3b9987bc30251ef|\n",
            "|4  |Adithya Ram    |2024-04-03|12 |8500.0 |43143316d91bba10eaac3e65027eab248dcad32edc54273deccf2aba3f8b2583|\n",
            "|5  |Shikha Karmokar|2024-06-07|10 |19000.0|5354dc81b7824fb2ec0d19b83f0447e315871f723d9a4aeb14ee2a8b0423c7e5|\n",
            "|6  |Gautam gambir  |2024-03-09|16 |96000.0|af0fcd070d724af0083a5e4f7bfcfab269fad11503edaa874f97f671bbc043dc|\n",
            "|7  |Pranav Nagwekar|2024-02-12|19 |15000.0|f95fdea49ef27ebdb508c0cf68fb08ec7eafa1cfca50a5099cc8602991c5e014|\n",
            "|8  |John Cena      |2024-09-04|18 |25000.0|27ada68008e1516d8746de3efc54aeddf3d92854185a1e762b304abc19562c56|\n",
            "+---+---------------+----------+---+-------+----------------------------------------------------------------+\n",
            "\n"
          ]
        }
      ]
    },
    {
      "cell_type": "code",
      "source": [
        "#md5\n",
        "#calculates the MD5 hash of a column\n",
        "from pyspark.sql.functions import md5\n",
        "df_md5=df.withColumn('md5_hash',md5(col('name')))\n",
        "df_md5.show(truncate=False)"
      ],
      "metadata": {
        "colab": {
          "base_uri": "https://localhost:8080/"
        },
        "id": "4qDfd79hkPga",
        "outputId": "ad8febef-84e1-4686-9e14-63d110cdbd32"
      },
      "execution_count": null,
      "outputs": [
        {
          "output_type": "stream",
          "name": "stdout",
          "text": [
            "+---+---------------+----------+---+-------+--------------------------------+\n",
            "|id |name           |dob       |age|salary |md5_hash                        |\n",
            "+---+---------------+----------+---+-------+--------------------------------+\n",
            "|1  |JohnDoe        |2024-08-01|23 |1000.5 |9fd9f63e0d6487537569075da85a0c7f|\n",
            "|2  |Jane Smith     |2024-08-02|34 |2000.75|71768b5e2a0b3697eb3c0c6d4ebbbaf8|\n",
            "|3  |Jake White     |2024-06-08|22 |3600.5 |3ee9984296bc94702c3fa0b750b928fb|\n",
            "|4  |Adithya Ram    |2024-04-03|12 |8500.0 |fc285211cb85cf7ea18c21bdd9152b84|\n",
            "|5  |Shikha Karmokar|2024-06-07|10 |19000.0|175009fd6531979cfa09212e5baa44c2|\n",
            "|6  |Gautam gambir  |2024-03-09|16 |96000.0|28954fb2ddc62f5ba89b23937b07a450|\n",
            "|7  |Pranav Nagwekar|2024-02-12|19 |15000.0|d8151eca260c2326e2d87b0bad548ad3|\n",
            "|8  |John Cena      |2024-09-04|18 |25000.0|107f995b277b862877d87a09c3008c44|\n",
            "+---+---------------+----------+---+-------+--------------------------------+\n",
            "\n"
          ]
        }
      ]
    },
    {
      "cell_type": "code",
      "source": [
        "# Monotonically_increasing_id\n",
        "# Generates a unique,montonically increasing 64-bit integer fro each row\n",
        "from pyspark.sql.functions import monotonically_increasing_id\n",
        "df_monotinically_increasing_id_adithya=df.withColumn('monotonically_increasing_id',monotonically_increasing_id())\n",
        "df_monotinically_increasing_id_adithya.show()"
      ],
      "metadata": {
        "colab": {
          "base_uri": "https://localhost:8080/"
        },
        "id": "5fMqVhkSkq1r",
        "outputId": "60b63fc1-b383-4bb6-c25b-8f769c097dad"
      },
      "execution_count": null,
      "outputs": [
        {
          "output_type": "stream",
          "name": "stdout",
          "text": [
            "+---+---------------+----------+---+-------+---------------------------+\n",
            "| id|           name|       dob|age| salary|monotonically_increasing_id|\n",
            "+---+---------------+----------+---+-------+---------------------------+\n",
            "|  1|        JohnDoe|2024-08-01| 23| 1000.5|                          0|\n",
            "|  2|     Jane Smith|2024-08-02| 34|2000.75|                          1|\n",
            "|  3|     Jake White|2024-06-08| 22| 3600.5|                          2|\n",
            "|  4|    Adithya Ram|2024-04-03| 12| 8500.0|                          3|\n",
            "|  5|Shikha Karmokar|2024-06-07| 10|19000.0|                 8589934592|\n",
            "|  6|  Gautam gambir|2024-03-09| 16|96000.0|                 8589934593|\n",
            "|  7|Pranav Nagwekar|2024-02-12| 19|15000.0|                 8589934594|\n",
            "|  8|      John Cena|2024-09-04| 18|25000.0|                 8589934595|\n",
            "+---+---------------+----------+---+-------+---------------------------+\n",
            "\n"
          ]
        }
      ]
    },
    {
      "cell_type": "code",
      "source": [
        "#Length\n",
        "#returns the length of a string column\n",
        "from pyspark.sql.functions import length\n",
        "df_length_adithya=df.withColumn('name_column',length(col('name')))\n",
        "df_length_adithya.show()"
      ],
      "metadata": {
        "colab": {
          "base_uri": "https://localhost:8080/"
        },
        "id": "SGcNi_3Cl-TS",
        "outputId": "111bad54-abd1-4711-ce94-dac5dcc77387"
      },
      "execution_count": null,
      "outputs": [
        {
          "output_type": "stream",
          "name": "stdout",
          "text": [
            "+---+---------------+----------+---+-------+-----------+\n",
            "| id|           name|       dob|age| salary|name_column|\n",
            "+---+---------------+----------+---+-------+-----------+\n",
            "|  1|        JohnDoe|2024-08-01| 23| 1000.5|          7|\n",
            "|  2|     Jane Smith|2024-08-02| 34|2000.75|         10|\n",
            "|  3|     Jake White|2024-06-08| 22| 3600.5|         10|\n",
            "|  4|    Adithya Ram|2024-04-03| 12| 8500.0|         11|\n",
            "|  5|Shikha Karmokar|2024-06-07| 10|19000.0|         15|\n",
            "|  6|  Gautam gambir|2024-03-09| 16|96000.0|         13|\n",
            "|  7|Pranav Nagwekar|2024-02-12| 19|15000.0|         15|\n",
            "|  8|      John Cena|2024-09-04| 18|25000.0|          9|\n",
            "+---+---------------+----------+---+-------+-----------+\n",
            "\n"
          ]
        }
      ]
    },
    {
      "cell_type": "code",
      "source": [
        "#upper and lower\n",
        "#converts all characters of a string column to upper or lower case\n",
        "from pyspark.sql.functions import upper,lower\n",
        "from pyspark.sql.functions import upper,lower\n",
        "df_upper_lower=df.withColumn('name_upper',upper(col('name'))).withColumn('name_lower',lower(col('name')))\n",
        "df_upper_lower.show()\n"
      ],
      "metadata": {
        "colab": {
          "base_uri": "https://localhost:8080/"
        },
        "id": "Oio_VWJqmVja",
        "outputId": "df5c1648-abf5-4838-836d-78838dfd92b0"
      },
      "execution_count": null,
      "outputs": [
        {
          "output_type": "stream",
          "name": "stdout",
          "text": [
            "+---+---------------+----------+---+-------+---------------+---------------+\n",
            "| id|           name|       dob|age| salary|     name_upper|     name_lower|\n",
            "+---+---------------+----------+---+-------+---------------+---------------+\n",
            "|  1|        JohnDoe|2024-08-01| 23| 1000.5|        JOHNDOE|        johndoe|\n",
            "|  2|     Jane Smith|2024-08-02| 34|2000.75|     JANE SMITH|     jane smith|\n",
            "|  3|     Jake White|2024-06-08| 22| 3600.5|     JAKE WHITE|     jake white|\n",
            "|  4|    Adithya Ram|2024-04-03| 12| 8500.0|    ADITHYA RAM|    adithya ram|\n",
            "|  5|Shikha Karmokar|2024-06-07| 10|19000.0|SHIKHA KARMOKAR|shikha karmokar|\n",
            "|  6|  Gautam gambir|2024-03-09| 16|96000.0|  GAUTAM GAMBIR|  gautam gambir|\n",
            "|  7|Pranav Nagwekar|2024-02-12| 19|15000.0|PRANAV NAGWEKAR|pranav nagwekar|\n",
            "|  8|      John Cena|2024-09-04| 18|25000.0|      JOHN CENA|      john cena|\n",
            "+---+---------------+----------+---+-------+---------------+---------------+\n",
            "\n"
          ]
        }
      ]
    },
    {
      "cell_type": "code",
      "source": [
        "#trim,ltrim,rtrim\n",
        "#Trims spaces from both sides, lef sides , or right side of a string column\n",
        "from pyspark.sql.functions import trim,ltrim,rtrim\n",
        "df_all=df.withColumn('name_trimmed',trim(col('name'))).withColumn('name_ltrimmed',ltrim(col('name'))).withColumn('name_trimmed',rtrim(col('name')))\n",
        "df_all.show()"
      ],
      "metadata": {
        "colab": {
          "base_uri": "https://localhost:8080/"
        },
        "id": "-rKZMdI8nCB5",
        "outputId": "da5ed491-e704-4261-ec73-bd7c0913e998"
      },
      "execution_count": null,
      "outputs": [
        {
          "output_type": "stream",
          "name": "stdout",
          "text": [
            "+---+---------------+----------+---+-------+---------------+---------------+\n",
            "| id|           name|       dob|age| salary|   name_trimmed|  name_ltrimmed|\n",
            "+---+---------------+----------+---+-------+---------------+---------------+\n",
            "|  1|        JohnDoe|2024-08-01| 23| 1000.5|        JohnDoe|        JohnDoe|\n",
            "|  2|     Jane Smith|2024-08-02| 34|2000.75|     Jane Smith|     Jane Smith|\n",
            "|  3|     Jake White|2024-06-08| 22| 3600.5|     Jake White|     Jake White|\n",
            "|  4|    Adithya Ram|2024-04-03| 12| 8500.0|    Adithya Ram|    Adithya Ram|\n",
            "|  5|Shikha Karmokar|2024-06-07| 10|19000.0|Shikha Karmokar|Shikha Karmokar|\n",
            "|  6|  Gautam gambir|2024-03-09| 16|96000.0|  Gautam gambir|  Gautam gambir|\n",
            "|  7|Pranav Nagwekar|2024-02-12| 19|15000.0|Pranav Nagwekar|Pranav Nagwekar|\n",
            "|  8|      John Cena|2024-09-04| 18|25000.0|      John Cena|      John Cena|\n",
            "+---+---------------+----------+---+-------+---------------+---------------+\n",
            "\n"
          ]
        }
      ]
    },
    {
      "cell_type": "code",
      "source": [
        "#abs\n",
        "#returns the absolute value of a numeric column\n",
        "from pyspark.sql.functions import abs\n",
        "df_abs_adithya=df.withColumn('abs_salary',abs(col('salary')-3000))\n",
        "df_abs_adithya.show()"
      ],
      "metadata": {
        "colab": {
          "base_uri": "https://localhost:8080/"
        },
        "id": "hY4RehjSn7Ls",
        "outputId": "b234e737-d045-44de-ae92-b42b6889f1ed"
      },
      "execution_count": null,
      "outputs": [
        {
          "output_type": "stream",
          "name": "stdout",
          "text": [
            "+---+---------------+----------+---+-------+----------+\n",
            "| id|           name|       dob|age| salary|abs_salary|\n",
            "+---+---------------+----------+---+-------+----------+\n",
            "|  1|        JohnDoe|2024-08-01| 23| 1000.5|    1999.5|\n",
            "|  2|     Jane Smith|2024-08-02| 34|2000.75|    999.25|\n",
            "|  3|     Jake White|2024-06-08| 22| 3600.5|     600.5|\n",
            "|  4|    Adithya Ram|2024-04-03| 12| 8500.0|    5500.0|\n",
            "|  5|Shikha Karmokar|2024-06-07| 10|19000.0|   16000.0|\n",
            "|  6|  Gautam gambir|2024-03-09| 16|96000.0|   93000.0|\n",
            "|  7|Pranav Nagwekar|2024-02-12| 19|15000.0|   12000.0|\n",
            "|  8|      John Cena|2024-09-04| 18|25000.0|   22000.0|\n",
            "+---+---------------+----------+---+-------+----------+\n",
            "\n"
          ]
        }
      ]
    },
    {
      "cell_type": "code",
      "source": [
        "#sqrt\n",
        "# returns the square root of a numeric column\n",
        "from pyspark.sql.functions import sqrt\n",
        "df_sqrt_adithya=df.withColumn('sqrt_age',sqrt(col('age')))\n",
        "df_sqrt_adithya.show()"
      ],
      "metadata": {
        "colab": {
          "base_uri": "https://localhost:8080/"
        },
        "id": "bOSeXJdRo0-p",
        "outputId": "0528a111-9bec-4ec8-db26-8f365ea74208"
      },
      "execution_count": null,
      "outputs": [
        {
          "output_type": "stream",
          "name": "stdout",
          "text": [
            "+---+---------------+----------+---+-------+------------------+\n",
            "| id|           name|       dob|age| salary|          sqrt_age|\n",
            "+---+---------------+----------+---+-------+------------------+\n",
            "|  1|        JohnDoe|2024-08-01| 23| 1000.5| 4.795831523312719|\n",
            "|  2|     Jane Smith|2024-08-02| 34|2000.75| 5.830951894845301|\n",
            "|  3|     Jake White|2024-06-08| 22| 3600.5|  4.69041575982343|\n",
            "|  4|    Adithya Ram|2024-04-03| 12| 8500.0|3.4641016151377544|\n",
            "|  5|Shikha Karmokar|2024-06-07| 10|19000.0|3.1622776601683795|\n",
            "|  6|  Gautam gambir|2024-03-09| 16|96000.0|               4.0|\n",
            "|  7|Pranav Nagwekar|2024-02-12| 19|15000.0| 4.358898943540674|\n",
            "|  8|      John Cena|2024-09-04| 18|25000.0| 4.242640687119285|\n",
            "+---+---------------+----------+---+-------+------------------+\n",
            "\n"
          ]
        }
      ]
    },
    {
      "cell_type": "code",
      "source": [
        "#exp\n",
        "#Computes the exponential mof the given below\n",
        "from pyspark.sql.functions import exp\n",
        "df_exp=df.withColumn('exp_age',exp(col('age')))\n",
        "df_exp.show()"
      ],
      "metadata": {
        "colab": {
          "base_uri": "https://localhost:8080/"
        },
        "id": "1xu6gvndpJOY",
        "outputId": "0014ee2a-56a8-4911-b3f2-a5fae66b8f21"
      },
      "execution_count": null,
      "outputs": [
        {
          "output_type": "stream",
          "name": "stdout",
          "text": [
            "+---+---------------+----------+---+-------+--------------------+\n",
            "| id|           name|       dob|age| salary|             exp_age|\n",
            "+---+---------------+----------+---+-------+--------------------+\n",
            "|  1|        JohnDoe|2024-08-01| 23| 1000.5| 9.744803446248903E9|\n",
            "|  2|     Jane Smith|2024-08-02| 34|2000.75|5.834617425274549E14|\n",
            "|  3|     Jake White|2024-06-08| 22| 3600.5| 3.584912846131592E9|\n",
            "|  4|    Adithya Ram|2024-04-03| 12| 8500.0|  162754.79141900392|\n",
            "|  5|Shikha Karmokar|2024-06-07| 10|19000.0|  22026.465794806718|\n",
            "|  6|  Gautam gambir|2024-03-09| 16|96000.0|   8886110.520507872|\n",
            "|  7|Pranav Nagwekar|2024-02-12| 19|15000.0|1.7848230096318728E8|\n",
            "|  8|      John Cena|2024-09-04| 18|25000.0| 6.565996913733051E7|\n",
            "+---+---------------+----------+---+-------+--------------------+\n",
            "\n"
          ]
        }
      ]
    },
    {
      "cell_type": "code",
      "source": [
        "#log,Log10,Log2\n",
        "# Computes the algorithm of the column using a base of e,10 or 2\n",
        "from pyspark.sql.functions import log,log10,log2\n",
        "df_all_adithya=df.withColumn('log_age',log(col('age'))).withColumn('log10_age',log10(col('age'))).withColumn('log2_age',log2(col('age')))\n",
        "df_all_adithya.show()"
      ],
      "metadata": {
        "colab": {
          "base_uri": "https://localhost:8080/"
        },
        "id": "itORCeklprvQ",
        "outputId": "3ecba05c-a96b-4da9-db29-ad4aed31c7c7"
      },
      "execution_count": null,
      "outputs": [
        {
          "output_type": "stream",
          "name": "stdout",
          "text": [
            "+---+---------------+----------+---+-------+------------------+------------------+------------------+\n",
            "| id|           name|       dob|age| salary|           log_age|         log10_age|          log2_age|\n",
            "+---+---------------+----------+---+-------+------------------+------------------+------------------+\n",
            "|  1|        JohnDoe|2024-08-01| 23| 1000.5|3.1354942159291497|1.3617278360175928| 4.523561956057013|\n",
            "|  2|     Jane Smith|2024-08-02| 34|2000.75|3.5263605246161616|1.5314789170422551|  5.08746284125034|\n",
            "|  3|     Jake White|2024-06-08| 22| 3600.5| 3.091042453358316|1.3424226808222062| 4.459431618637297|\n",
            "|  4|    Adithya Ram|2024-04-03| 12| 8500.0|2.4849066497880004|1.0791812460476249|3.5849625007211565|\n",
            "|  5|Shikha Karmokar|2024-06-07| 10|19000.0| 2.302585092994046|               1.0|3.3219280948873626|\n",
            "|  6|  Gautam gambir|2024-03-09| 16|96000.0| 2.772588722239781|1.2041199826559248|               4.0|\n",
            "|  7|Pranav Nagwekar|2024-02-12| 19|15000.0|2.9444389791664403|1.2787536009528289| 4.247927513443585|\n",
            "|  8|      John Cena|2024-09-04| 18|25000.0|2.8903717578961645| 1.255272505103306| 4.169925001442312|\n",
            "+---+---------------+----------+---+-------+------------------+------------------+------------------+\n",
            "\n"
          ]
        }
      ]
    },
    {
      "cell_type": "code",
      "source": [
        "#greatest and least\n",
        "#Returns the greatest or least value of the list of columns\n",
        "from pyspark.sql.functions import greatest,least\n",
        "df_greatest=df.withColumn('greatest_value',greatest(col('id'),col('age')))\n",
        "print(df_greatest.show())\n",
        "df_least_adithya=df.withColumn('least_value',least(col('id'),col('age')))\n",
        "print(df_least_adithya.show())"
      ],
      "metadata": {
        "colab": {
          "base_uri": "https://localhost:8080/"
        },
        "id": "yuftFhRYqg-p",
        "outputId": "3becb61e-ebd1-4d31-bb33-d7f7fb162046"
      },
      "execution_count": null,
      "outputs": [
        {
          "output_type": "stream",
          "name": "stdout",
          "text": [
            "+---+---------------+----------+---+-------+--------------+\n",
            "| id|           name|       dob|age| salary|greatest_value|\n",
            "+---+---------------+----------+---+-------+--------------+\n",
            "|  1|        JohnDoe|2024-08-01| 23| 1000.5|            23|\n",
            "|  2|     Jane Smith|2024-08-02| 34|2000.75|            34|\n",
            "|  3|     Jake White|2024-06-08| 22| 3600.5|            22|\n",
            "|  4|    Adithya Ram|2024-04-03| 12| 8500.0|            12|\n",
            "|  5|Shikha Karmokar|2024-06-07| 10|19000.0|            10|\n",
            "|  6|  Gautam gambir|2024-03-09| 16|96000.0|            16|\n",
            "|  7|Pranav Nagwekar|2024-02-12| 19|15000.0|            19|\n",
            "|  8|      John Cena|2024-09-04| 18|25000.0|            18|\n",
            "+---+---------------+----------+---+-------+--------------+\n",
            "\n",
            "None\n",
            "+---+---------------+----------+---+-------+-----------+\n",
            "| id|           name|       dob|age| salary|least_value|\n",
            "+---+---------------+----------+---+-------+-----------+\n",
            "|  1|        JohnDoe|2024-08-01| 23| 1000.5|          1|\n",
            "|  2|     Jane Smith|2024-08-02| 34|2000.75|          2|\n",
            "|  3|     Jake White|2024-06-08| 22| 3600.5|          3|\n",
            "|  4|    Adithya Ram|2024-04-03| 12| 8500.0|          4|\n",
            "|  5|Shikha Karmokar|2024-06-07| 10|19000.0|          5|\n",
            "|  6|  Gautam gambir|2024-03-09| 16|96000.0|          6|\n",
            "|  7|Pranav Nagwekar|2024-02-12| 19|15000.0|          7|\n",
            "|  8|      John Cena|2024-09-04| 18|25000.0|          8|\n",
            "+---+---------------+----------+---+-------+-----------+\n",
            "\n",
            "None\n"
          ]
        }
      ]
    },
    {
      "cell_type": "code",
      "source": [
        "#pow\n",
        "#raises the value of a column to the power of another column\n",
        "from pyspark.sql.functions import pow\n",
        "df_pow_adithya=df.withColumn('pow_result',pow(col('id'),col('age')))\n",
        "df_pow_adithya.show(truncate=False)"
      ],
      "metadata": {
        "colab": {
          "base_uri": "https://localhost:8080/"
        },
        "id": "4zmVbQPTrc4S",
        "outputId": "2e2620e2-f50f-464c-a3b0-c9468268031f"
      },
      "execution_count": null,
      "outputs": [
        {
          "output_type": "stream",
          "name": "stdout",
          "text": [
            "+---+---------------+----------+---+-------+---------------------+\n",
            "|id |name           |dob       |age|salary |pow_result           |\n",
            "+---+---------------+----------+---+-------+---------------------+\n",
            "|1  |JohnDoe        |2024-08-01|23 |1000.5 |1.0                  |\n",
            "|2  |Jane Smith     |2024-08-02|34 |2000.75|1.7179869184E10      |\n",
            "|3  |Jake White     |2024-06-08|22 |3600.5 |3.1381059609E10      |\n",
            "|4  |Adithya Ram    |2024-04-03|12 |8500.0 |1.6777216E7          |\n",
            "|5  |Shikha Karmokar|2024-06-07|10 |19000.0|9765625.0            |\n",
            "|6  |Gautam gambir  |2024-03-09|16 |96000.0|2.821109907456E12    |\n",
            "|7  |Pranav Nagwekar|2024-02-12|19 |15000.0|1.1398895185373144E16|\n",
            "|8  |John Cena      |2024-09-04|18 |25000.0|1.8014398509481984E16|\n",
            "+---+---------------+----------+---+-------+---------------------+\n",
            "\n"
          ]
        }
      ]
    },
    {
      "cell_type": "code",
      "source": [
        "from pyspark.sql.functions import round,bround\n",
        "df_round=df.withColumn('rounded_salary',round(col('salary'),0))\n",
        "print(df_round.show())\n",
        "df_bround_adithya=df.withColumn('brounded_salary',bround(col('salary'),0))\n",
        "print(df_bround_adithya.show())"
      ],
      "metadata": {
        "colab": {
          "base_uri": "https://localhost:8080/"
        },
        "id": "8VbR7uXxr1EI",
        "outputId": "e4ed3a61-410c-4f2f-f3bb-5e9783e36de0"
      },
      "execution_count": null,
      "outputs": [
        {
          "output_type": "stream",
          "name": "stdout",
          "text": [
            "+---+---------------+----------+---+-------+--------------+\n",
            "| id|           name|       dob|age| salary|rounded_salary|\n",
            "+---+---------------+----------+---+-------+--------------+\n",
            "|  1|        JohnDoe|2024-08-01| 23| 1000.5|        1001.0|\n",
            "|  2|     Jane Smith|2024-08-02| 34|2000.75|        2001.0|\n",
            "|  3|     Jake White|2024-06-08| 22| 3600.5|        3601.0|\n",
            "|  4|    Adithya Ram|2024-04-03| 12| 8500.0|        8500.0|\n",
            "|  5|Shikha Karmokar|2024-06-07| 10|19000.0|       19000.0|\n",
            "|  6|  Gautam gambir|2024-03-09| 16|96000.0|       96000.0|\n",
            "|  7|Pranav Nagwekar|2024-02-12| 19|15000.0|       15000.0|\n",
            "|  8|      John Cena|2024-09-04| 18|25000.0|       25000.0|\n",
            "+---+---------------+----------+---+-------+--------------+\n",
            "\n",
            "None\n",
            "+---+---------------+----------+---+-------+---------------+\n",
            "| id|           name|       dob|age| salary|brounded_salary|\n",
            "+---+---------------+----------+---+-------+---------------+\n",
            "|  1|        JohnDoe|2024-08-01| 23| 1000.5|         1000.0|\n",
            "|  2|     Jane Smith|2024-08-02| 34|2000.75|         2001.0|\n",
            "|  3|     Jake White|2024-06-08| 22| 3600.5|         3600.0|\n",
            "|  4|    Adithya Ram|2024-04-03| 12| 8500.0|         8500.0|\n",
            "|  5|Shikha Karmokar|2024-06-07| 10|19000.0|        19000.0|\n",
            "|  6|  Gautam gambir|2024-03-09| 16|96000.0|        96000.0|\n",
            "|  7|Pranav Nagwekar|2024-02-12| 19|15000.0|        15000.0|\n",
            "|  8|      John Cena|2024-09-04| 18|25000.0|        25000.0|\n",
            "+---+---------------+----------+---+-------+---------------+\n",
            "\n",
            "None\n"
          ]
        }
      ]
    },
    {
      "cell_type": "code",
      "source": [
        "# degrees,radians\n",
        "# Converts an angle from radians to degrees or from degrees ton radians\n",
        "from pyspark.sql.functions import degrees,radians\n",
        "df_degrees_adithya=df.withColumn('degrees_value',degrees(col('age')))\n",
        "print(df_degrees.show())\n",
        "df_radians_adithya=df.withColumn('radians_value',radians(col('age')))\n",
        "print(df_radians.show())"
      ],
      "metadata": {
        "colab": {
          "base_uri": "https://localhost:8080/"
        },
        "id": "tcbKTrHesfWw",
        "outputId": "dc2444a5-6061-486b-9bcc-13452936bae6"
      },
      "execution_count": null,
      "outputs": [
        {
          "output_type": "stream",
          "name": "stdout",
          "text": [
            "+---+---------------+----------+---+-------+------------------+\n",
            "| id|           name|       dob|age| salary|     degrees_value|\n",
            "+---+---------------+----------+---+-------+------------------+\n",
            "|  1|        JohnDoe|2024-08-01| 23| 1000.5|1317.8029288008934|\n",
            "|  2|     Jane Smith|2024-08-02| 34|2000.75| 1948.056503444799|\n",
            "|  3|     Jake White|2024-06-08| 22| 3600.5| 1260.507149287811|\n",
            "|  4|    Adithya Ram|2024-04-03| 12| 8500.0| 687.5493541569879|\n",
            "|  5|Shikha Karmokar|2024-06-07| 10|19000.0| 572.9577951308232|\n",
            "|  6|  Gautam gambir|2024-03-09| 16|96000.0| 916.7324722093172|\n",
            "|  7|Pranav Nagwekar|2024-02-12| 19|15000.0| 1088.619810748564|\n",
            "|  8|      John Cena|2024-09-04| 18|25000.0| 1031.324031235482|\n",
            "+---+---------------+----------+---+-------+------------------+\n",
            "\n",
            "None\n",
            "+---+---------------+----------+---+-------+-------------------+\n",
            "| id|           name|       dob|age| salary|      radians_value|\n",
            "+---+---------------+----------+---+-------+-------------------+\n",
            "|  1|        JohnDoe|2024-08-01| 23| 1000.5| 0.4014257279586958|\n",
            "|  2|     Jane Smith|2024-08-02| 34|2000.75| 0.5934119456780721|\n",
            "|  3|     Jake White|2024-06-08| 22| 3600.5| 0.3839724354387525|\n",
            "|  4|    Adithya Ram|2024-04-03| 12| 8500.0|0.20943951023931956|\n",
            "|  5|Shikha Karmokar|2024-06-07| 10|19000.0|0.17453292519943295|\n",
            "|  6|  Gautam gambir|2024-03-09| 16|96000.0| 0.2792526803190927|\n",
            "|  7|Pranav Nagwekar|2024-02-12| 19|15000.0|0.33161255787892263|\n",
            "|  8|      John Cena|2024-09-04| 18|25000.0| 0.3141592653589793|\n",
            "+---+---------------+----------+---+-------+-------------------+\n",
            "\n",
            "None\n"
          ]
        }
      ]
    },
    {
      "cell_type": "code",
      "source": [
        "# signum\n",
        "# Computes the signum of a number : -1 if it's negative, 0 if it's zero, and 1 if it's positive\n",
        "from pyspark.sql.functions import signum\n",
        "df_signum_adithya=df.withColumn('signum_value',signum(col('age')))\n",
        "df_signum_adithya.show()"
      ],
      "metadata": {
        "colab": {
          "base_uri": "https://localhost:8080/"
        },
        "id": "8jjWQLOitMZo",
        "outputId": "f4d77e11-a194-4833-ef61-2b948c2e74db"
      },
      "execution_count": null,
      "outputs": [
        {
          "output_type": "stream",
          "name": "stdout",
          "text": [
            "+---+---------------+----------+---+-------+------------+\n",
            "| id|           name|       dob|age| salary|signum_value|\n",
            "+---+---------------+----------+---+-------+------------+\n",
            "|  1|        JohnDoe|2024-08-01| 23| 1000.5|         1.0|\n",
            "|  2|     Jane Smith|2024-08-02| 34|2000.75|         1.0|\n",
            "|  3|     Jake White|2024-06-08| 22| 3600.5|         1.0|\n",
            "|  4|    Adithya Ram|2024-04-03| 12| 8500.0|         1.0|\n",
            "|  5|Shikha Karmokar|2024-06-07| 10|19000.0|         1.0|\n",
            "|  6|  Gautam gambir|2024-03-09| 16|96000.0|         1.0|\n",
            "|  7|Pranav Nagwekar|2024-02-12| 19|15000.0|         1.0|\n",
            "|  8|      John Cena|2024-09-04| 18|25000.0|         1.0|\n",
            "+---+---------------+----------+---+-------+------------+\n",
            "\n"
          ]
        }
      ]
    },
    {
      "cell_type": "code",
      "source": [
        "# hex,unhex\n",
        "# converts a column to hexadecimal and back\n",
        "from pyspark.sql.functions import hex,unhex\n",
        "df_all_adithya=df.withColumn('hex_name',hex(col('id'))).withColumn('unhex_name',unhex(hex(col('id'))))\n",
        "df_all_adithya.show()\n"
      ],
      "metadata": {
        "colab": {
          "base_uri": "https://localhost:8080/"
        },
        "id": "en1skx-mtxUf",
        "outputId": "7ba07a75-f376-4be3-e3a7-944d08f29051"
      },
      "execution_count": null,
      "outputs": [
        {
          "output_type": "stream",
          "name": "stdout",
          "text": [
            "+---+---------------+----------+---+-------+--------+----------+\n",
            "| id|           name|       dob|age| salary|hex_name|unhex_name|\n",
            "+---+---------------+----------+---+-------+--------+----------+\n",
            "|  1|        JohnDoe|2024-08-01| 23| 1000.5|       1|      [01]|\n",
            "|  2|     Jane Smith|2024-08-02| 34|2000.75|       2|      [02]|\n",
            "|  3|     Jake White|2024-06-08| 22| 3600.5|       3|      [03]|\n",
            "|  4|    Adithya Ram|2024-04-03| 12| 8500.0|       4|      [04]|\n",
            "|  5|Shikha Karmokar|2024-06-07| 10|19000.0|       5|      [05]|\n",
            "|  6|  Gautam gambir|2024-03-09| 16|96000.0|       6|      [06]|\n",
            "|  7|Pranav Nagwekar|2024-02-12| 19|15000.0|       7|      [07]|\n",
            "|  8|      John Cena|2024-09-04| 18|25000.0|       8|      [08]|\n",
            "+---+---------------+----------+---+-------+--------+----------+\n",
            "\n"
          ]
        }
      ]
    },
    {
      "cell_type": "code",
      "source": [
        "#nvl,nvl2\n",
        "from pyspark.sql.functions import nvl,nvl2,col\n",
        "df_nv1_adithya=df.withColumn('nvl_age',nvl(col('age'),col('id')))\n",
        "print(df_nv1_adithya.show())\n",
        "df_nvl2_adithya=df.withColumn('nvl2_age',nvl2(col('age'),col('id'),col('salary')))\n",
        "print(df_nvl2_adithya.show())\n"
      ],
      "metadata": {
        "colab": {
          "base_uri": "https://localhost:8080/"
        },
        "id": "WSN_4tdnuXuX",
        "outputId": "c8682f72-8777-4676-df46-52b689e6ca5e"
      },
      "execution_count": null,
      "outputs": [
        {
          "output_type": "stream",
          "name": "stdout",
          "text": [
            "+---+---------------+----------+---+-------+-------+\n",
            "| id|           name|       dob|age| salary|nvl_age|\n",
            "+---+---------------+----------+---+-------+-------+\n",
            "|  1|        JohnDoe|2024-08-01| 23| 1000.5|     23|\n",
            "|  2|     Jane Smith|2024-08-02| 34|2000.75|     34|\n",
            "|  3|     Jake White|2024-06-08| 22| 3600.5|     22|\n",
            "|  4|    Adithya Ram|2024-04-03| 12| 8500.0|     12|\n",
            "|  5|Shikha Karmokar|2024-06-07| 10|19000.0|     10|\n",
            "|  6|  Gautam gambir|2024-03-09| 16|96000.0|     16|\n",
            "|  7|Pranav Nagwekar|2024-02-12| 19|15000.0|     19|\n",
            "|  8|      John Cena|2024-09-04| 18|25000.0|     18|\n",
            "+---+---------------+----------+---+-------+-------+\n",
            "\n",
            "None\n",
            "+---+---------------+----------+---+-------+--------+\n",
            "| id|           name|       dob|age| salary|nvl2_age|\n",
            "+---+---------------+----------+---+-------+--------+\n",
            "|  1|        JohnDoe|2024-08-01| 23| 1000.5|     1.0|\n",
            "|  2|     Jane Smith|2024-08-02| 34|2000.75|     2.0|\n",
            "|  3|     Jake White|2024-06-08| 22| 3600.5|     3.0|\n",
            "|  4|    Adithya Ram|2024-04-03| 12| 8500.0|     4.0|\n",
            "|  5|Shikha Karmokar|2024-06-07| 10|19000.0|     5.0|\n",
            "|  6|  Gautam gambir|2024-03-09| 16|96000.0|     6.0|\n",
            "|  7|Pranav Nagwekar|2024-02-12| 19|15000.0|     7.0|\n",
            "|  8|      John Cena|2024-09-04| 18|25000.0|     8.0|\n",
            "+---+---------------+----------+---+-------+--------+\n",
            "\n",
            "None\n"
          ]
        }
      ]
    },
    {
      "cell_type": "code",
      "source": [
        "#reverse\n",
        "# Reverses the string in a column\n",
        "from pyspark.sql.functions import reverse\n",
        "df_reverse_adithya=df.withColumn('reversed_name',reverse(col('name')))\n",
        "df_reverse_adithya.show()"
      ],
      "metadata": {
        "colab": {
          "base_uri": "https://localhost:8080/"
        },
        "id": "98eZmtZwvSju",
        "outputId": "d786cb1b-e7d1-4383-eae4-2289dd000e56"
      },
      "execution_count": null,
      "outputs": [
        {
          "output_type": "stream",
          "name": "stdout",
          "text": [
            "+---+---------------+----------+---+-------+---------------+\n",
            "| id|           name|       dob|age| salary|  reversed_name|\n",
            "+---+---------------+----------+---+-------+---------------+\n",
            "|  1|        JohnDoe|2024-08-01| 23| 1000.5|        eoDnhoJ|\n",
            "|  2|     Jane Smith|2024-08-02| 34|2000.75|     htimS enaJ|\n",
            "|  3|     Jake White|2024-06-08| 22| 3600.5|     etihW ekaJ|\n",
            "|  4|    Adithya Ram|2024-04-03| 12| 8500.0|    maR ayhtidA|\n",
            "|  5|Shikha Karmokar|2024-06-07| 10|19000.0|rakomraK ahkihS|\n",
            "|  6|  Gautam gambir|2024-03-09| 16|96000.0|  ribmag matuaG|\n",
            "|  7|Pranav Nagwekar|2024-02-12| 19|15000.0|rakewgaN vanarP|\n",
            "|  8|      John Cena|2024-09-04| 18|25000.0|      aneC nhoJ|\n",
            "+---+---------------+----------+---+-------+---------------+\n",
            "\n"
          ]
        }
      ]
    },
    {
      "cell_type": "code",
      "source": [
        "#initcap\n",
        "from pyspark.sql.functions import initcap\n",
        "df_initcap_adithya=df.withColumn('capitalized_name',initcap(col('name')))\n",
        "df_initcap_adithya.show()"
      ],
      "metadata": {
        "colab": {
          "base_uri": "https://localhost:8080/"
        },
        "id": "oE0ODEX0wKxn",
        "outputId": "9f2892c4-a965-4d30-8ae5-2fabdca898e1"
      },
      "execution_count": null,
      "outputs": [
        {
          "output_type": "stream",
          "name": "stdout",
          "text": [
            "+---+---------------+----------+---+-------+----------------+\n",
            "| id|           name|       dob|age| salary|capitalized_name|\n",
            "+---+---------------+----------+---+-------+----------------+\n",
            "|  1|        JohnDoe|2024-08-01| 23| 1000.5|         Johndoe|\n",
            "|  2|     Jane Smith|2024-08-02| 34|2000.75|      Jane Smith|\n",
            "|  3|     Jake White|2024-06-08| 22| 3600.5|      Jake White|\n",
            "|  4|    Adithya Ram|2024-04-03| 12| 8500.0|     Adithya Ram|\n",
            "|  5|Shikha Karmokar|2024-06-07| 10|19000.0| Shikha Karmokar|\n",
            "|  6|  Gautam gambir|2024-03-09| 16|96000.0|   Gautam Gambir|\n",
            "|  7|Pranav Nagwekar|2024-02-12| 19|15000.0| Pranav Nagwekar|\n",
            "|  8|      John Cena|2024-09-04| 18|25000.0|       John Cena|\n",
            "+---+---------------+----------+---+-------+----------------+\n",
            "\n"
          ]
        }
      ]
    },
    {
      "cell_type": "code",
      "source": [
        "#instr\n",
        "from pyspark.sql.functions import instr\n",
        "df_instr_adithya=df.withColumn('position_of_a',instr(col('name'),'a'))\n",
        "print(df_instr_adithya.show())\n",
        "print(df_instr_adithya.printSchema())"
      ],
      "metadata": {
        "colab": {
          "base_uri": "https://localhost:8080/"
        },
        "id": "pBfAK4ZWwhd4",
        "outputId": "9384ca36-4807-4536-df66-c4899d952359"
      },
      "execution_count": null,
      "outputs": [
        {
          "output_type": "stream",
          "name": "stdout",
          "text": [
            "+---+---------------+----------+---+-------+-------------+\n",
            "| id|           name|       dob|age| salary|position_of_a|\n",
            "+---+---------------+----------+---+-------+-------------+\n",
            "|  1|        JohnDoe|2024-08-01| 23| 1000.5|            0|\n",
            "|  2|     Jane Smith|2024-08-02| 34|2000.75|            2|\n",
            "|  3|     Jake White|2024-06-08| 22| 3600.5|            2|\n",
            "|  4|    Adithya Ram|2024-04-03| 12| 8500.0|            7|\n",
            "|  5|Shikha Karmokar|2024-06-07| 10|19000.0|            6|\n",
            "|  6|  Gautam gambir|2024-03-09| 16|96000.0|            2|\n",
            "|  7|Pranav Nagwekar|2024-02-12| 19|15000.0|            3|\n",
            "|  8|      John Cena|2024-09-04| 18|25000.0|            9|\n",
            "+---+---------------+----------+---+-------+-------------+\n",
            "\n",
            "None\n",
            "root\n",
            " |-- id: long (nullable = true)\n",
            " |-- name: string (nullable = true)\n",
            " |-- dob: string (nullable = true)\n",
            " |-- age: long (nullable = true)\n",
            " |-- salary: double (nullable = true)\n",
            " |-- position_of_a: integer (nullable = true)\n",
            "\n",
            "None\n"
          ]
        }
      ]
    },
    {
      "cell_type": "code",
      "source": [
        "#Locate\n",
        "from pyspark.sql.functions import locate\n",
        "df_locate_adithya=df.withColumn('locate_doe',locate('doe',col('name')))\n",
        "df_locate_adithya.show()"
      ],
      "metadata": {
        "colab": {
          "base_uri": "https://localhost:8080/"
        },
        "id": "Ncs16vR_xAAv",
        "outputId": "ebcf156f-4e25-4ef4-f987-7689a5cf786a"
      },
      "execution_count": null,
      "outputs": [
        {
          "output_type": "stream",
          "name": "stdout",
          "text": [
            "+---+---------------+----------+---+-------+----------+\n",
            "| id|           name|       dob|age| salary|locate_doe|\n",
            "+---+---------------+----------+---+-------+----------+\n",
            "|  1|        JohnDoe|2024-08-01| 23| 1000.5|         0|\n",
            "|  2|     Jane Smith|2024-08-02| 34|2000.75|         0|\n",
            "|  3|     Jake White|2024-06-08| 22| 3600.5|         0|\n",
            "|  4|    Adithya Ram|2024-04-03| 12| 8500.0|         0|\n",
            "|  5|Shikha Karmokar|2024-06-07| 10|19000.0|         0|\n",
            "|  6|  Gautam gambir|2024-03-09| 16|96000.0|         0|\n",
            "|  7|Pranav Nagwekar|2024-02-12| 19|15000.0|         0|\n",
            "|  8|      John Cena|2024-09-04| 18|25000.0|         0|\n",
            "+---+---------------+----------+---+-------+----------+\n",
            "\n"
          ]
        }
      ]
    },
    {
      "cell_type": "code",
      "source": [
        "#soundex\n",
        "from pyspark.sql.functions import soundex\n",
        "df_soundex_adithya=df.withColumn('soundex_name',soundex(col('name')))\n",
        "df_soundex_adithya.show()\n"
      ],
      "metadata": {
        "colab": {
          "base_uri": "https://localhost:8080/"
        },
        "id": "hYAo7RzgxY_u",
        "outputId": "66b27e82-182e-4f52-8c3d-e2db2fe0d495"
      },
      "execution_count": null,
      "outputs": [
        {
          "output_type": "stream",
          "name": "stdout",
          "text": [
            "+---+---------------+----------+---+-------+------------+\n",
            "| id|           name|       dob|age| salary|soundex_name|\n",
            "+---+---------------+----------+---+-------+------------+\n",
            "|  1|        JohnDoe|2024-08-01| 23| 1000.5|        J530|\n",
            "|  2|     Jane Smith|2024-08-02| 34|2000.75|        J525|\n",
            "|  3|     Jake White|2024-06-08| 22| 3600.5|        J230|\n",
            "|  4|    Adithya Ram|2024-04-03| 12| 8500.0|        A336|\n",
            "|  5|Shikha Karmokar|2024-06-07| 10|19000.0|        S226|\n",
            "|  6|  Gautam gambir|2024-03-09| 16|96000.0|        G352|\n",
            "|  7|Pranav Nagwekar|2024-02-12| 19|15000.0|        P651|\n",
            "|  8|      John Cena|2024-09-04| 18|25000.0|        J525|\n",
            "+---+---------------+----------+---+-------+------------+\n",
            "\n"
          ]
        }
      ]
    },
    {
      "cell_type": "code",
      "source": [
        "#Levenshtein\n",
        "from pyspark.sql.functions import levenshtein\n",
        "df_levenshtein_adithya=df.withColumn('levenshtein_distance',levenshtein(col('name'),lit('Jane Smith')))\n",
        "df_levenshtein_adithya.show()\n"
      ],
      "metadata": {
        "colab": {
          "base_uri": "https://localhost:8080/"
        },
        "id": "4p_5sRtBxvzO",
        "outputId": "ee4e51c3-54dc-43f5-9412-5244b820e5d8"
      },
      "execution_count": null,
      "outputs": [
        {
          "output_type": "stream",
          "name": "stdout",
          "text": [
            "+---+---------------+----------+---+-------+--------------------+\n",
            "| id|           name|       dob|age| salary|levenshtein_distance|\n",
            "+---+---------------+----------+---+-------+--------------------+\n",
            "|  1|        JohnDoe|2024-08-01| 23| 1000.5|                   9|\n",
            "|  2|     Jane Smith|2024-08-02| 34|2000.75|                   0|\n",
            "|  3|     Jake White|2024-06-08| 22| 3600.5|                   4|\n",
            "|  4|    Adithya Ram|2024-04-03| 12| 8500.0|                  11|\n",
            "|  5|Shikha Karmokar|2024-06-07| 10|19000.0|                  13|\n",
            "|  6|  Gautam gambir|2024-03-09| 16|96000.0|                  10|\n",
            "|  7|Pranav Nagwekar|2024-02-12| 19|15000.0|                  12|\n",
            "|  8|      John Cena|2024-09-04| 18|25000.0|                   8|\n",
            "+---+---------------+----------+---+-------+--------------------+\n",
            "\n"
          ]
        }
      ]
    },
    {
      "cell_type": "code",
      "source": [
        "#conv\n",
        "from pyspark.sql.functions import conv\n",
        "df_conv_adithya=df.withColumn('binary_value',conv(col('id'),10,2))\n",
        "df_conv_adithya.show()"
      ],
      "metadata": {
        "colab": {
          "base_uri": "https://localhost:8080/"
        },
        "id": "PFyb0czZyUKG",
        "outputId": "b9a55b5d-e81a-4947-9085-bf94215a2a8f"
      },
      "execution_count": null,
      "outputs": [
        {
          "output_type": "stream",
          "name": "stdout",
          "text": [
            "+---+---------------+----------+---+-------+------------+\n",
            "| id|           name|       dob|age| salary|binary_value|\n",
            "+---+---------------+----------+---+-------+------------+\n",
            "|  1|        JohnDoe|2024-08-01| 23| 1000.5|           1|\n",
            "|  2|     Jane Smith|2024-08-02| 34|2000.75|          10|\n",
            "|  3|     Jake White|2024-06-08| 22| 3600.5|          11|\n",
            "|  4|    Adithya Ram|2024-04-03| 12| 8500.0|         100|\n",
            "|  5|Shikha Karmokar|2024-06-07| 10|19000.0|         101|\n",
            "|  6|  Gautam gambir|2024-03-09| 16|96000.0|         110|\n",
            "|  7|Pranav Nagwekar|2024-02-12| 19|15000.0|         111|\n",
            "|  8|      John Cena|2024-09-04| 18|25000.0|        1000|\n",
            "+---+---------------+----------+---+-------+------------+\n",
            "\n"
          ]
        }
      ]
    },
    {
      "cell_type": "code",
      "source": [
        "#translate\n",
        "from pyspark.sql.functions import translate\n",
        "df_translate_adithya=df.withColumn('translated_name',translate(col('name'),'0','a'))\n",
        "df_translate_adithya.show()"
      ],
      "metadata": {
        "colab": {
          "base_uri": "https://localhost:8080/"
        },
        "id": "slqXegoSyrG-",
        "outputId": "f3bd98b0-5104-4551-e890-b03cebeb7a8e"
      },
      "execution_count": null,
      "outputs": [
        {
          "output_type": "stream",
          "name": "stdout",
          "text": [
            "+---+---------------+----------+---+-------+---------------+\n",
            "| id|           name|       dob|age| salary|translated_name|\n",
            "+---+---------------+----------+---+-------+---------------+\n",
            "|  1|        JohnDoe|2024-08-01| 23| 1000.5|        JohnDoe|\n",
            "|  2|     Jane Smith|2024-08-02| 34|2000.75|     Jane Smith|\n",
            "|  3|     Jake White|2024-06-08| 22| 3600.5|     Jake White|\n",
            "|  4|    Adithya Ram|2024-04-03| 12| 8500.0|    Adithya Ram|\n",
            "|  5|Shikha Karmokar|2024-06-07| 10|19000.0|Shikha Karmokar|\n",
            "|  6|  Gautam gambir|2024-03-09| 16|96000.0|  Gautam gambir|\n",
            "|  7|Pranav Nagwekar|2024-02-12| 19|15000.0|Pranav Nagwekar|\n",
            "|  8|      John Cena|2024-09-04| 18|25000.0|      John Cena|\n",
            "+---+---------------+----------+---+-------+---------------+\n",
            "\n"
          ]
        }
      ]
    },
    {
      "cell_type": "code",
      "source": [
        "#crc32\n",
        "from pyspark.sql.functions import crc32\n",
        "df_crc32_adithya=df.withColumn('crc32_name',crc32(col('name')))\n",
        "df_crc32_adithya.show()"
      ],
      "metadata": {
        "colab": {
          "base_uri": "https://localhost:8080/"
        },
        "id": "E2McHZ2cy_8u",
        "outputId": "5a7a45de-adf8-4d0f-8be6-70515054398f"
      },
      "execution_count": null,
      "outputs": [
        {
          "output_type": "stream",
          "name": "stdout",
          "text": [
            "+---+---------------+----------+---+-------+----------+\n",
            "| id|           name|       dob|age| salary|crc32_name|\n",
            "+---+---------------+----------+---+-------+----------+\n",
            "|  1|        JohnDoe|2024-08-01| 23| 1000.5|1579168729|\n",
            "|  2|     Jane Smith|2024-08-02| 34|2000.75|3280634359|\n",
            "|  3|     Jake White|2024-06-08| 22| 3600.5| 931505628|\n",
            "|  4|    Adithya Ram|2024-04-03| 12| 8500.0|3428739529|\n",
            "|  5|Shikha Karmokar|2024-06-07| 10|19000.0|3934425389|\n",
            "|  6|  Gautam gambir|2024-03-09| 16|96000.0|4201226789|\n",
            "|  7|Pranav Nagwekar|2024-02-12| 19|15000.0|1844703169|\n",
            "|  8|      John Cena|2024-09-04| 18|25000.0|3916334451|\n",
            "+---+---------------+----------+---+-------+----------+\n",
            "\n"
          ]
        }
      ]
    },
    {
      "cell_type": "code",
      "source": [
        "#uuid\n",
        "from pyspark.sql.functions import expr\n",
        "df_uuid_adithya=df.withColumn('uuid',expr('uuid()'))\n",
        "df_uuid_adithya.show()"
      ],
      "metadata": {
        "colab": {
          "base_uri": "https://localhost:8080/"
        },
        "id": "rQJht9LvzXLh",
        "outputId": "c4e2f5a7-6002-4210-f540-dbb0130039ba"
      },
      "execution_count": null,
      "outputs": [
        {
          "output_type": "stream",
          "name": "stdout",
          "text": [
            "+---+---------------+----------+---+-------+--------------------+\n",
            "| id|           name|       dob|age| salary|                uuid|\n",
            "+---+---------------+----------+---+-------+--------------------+\n",
            "|  1|        JohnDoe|2024-08-01| 23| 1000.5|dd4d7993-65ad-470...|\n",
            "|  2|     Jane Smith|2024-08-02| 34|2000.75|6c939e5d-12d6-4b9...|\n",
            "|  3|     Jake White|2024-06-08| 22| 3600.5|7723e0ec-9437-4ec...|\n",
            "|  4|    Adithya Ram|2024-04-03| 12| 8500.0|57ba2161-5d70-46b...|\n",
            "|  5|Shikha Karmokar|2024-06-07| 10|19000.0|a8cbf57a-d456-4f7...|\n",
            "|  6|  Gautam gambir|2024-03-09| 16|96000.0|11130cb3-2723-46f...|\n",
            "|  7|Pranav Nagwekar|2024-02-12| 19|15000.0|d0b0118e-156a-402...|\n",
            "|  8|      John Cena|2024-09-04| 18|25000.0|32812b6c-f13c-427...|\n",
            "+---+---------------+----------+---+-------+--------------------+\n",
            "\n"
          ]
        }
      ]
    },
    {
      "cell_type": "code",
      "source": [
        "#percent_rank\n",
        "from pyspark.sql.functions import percent_rank\n",
        "windowSpec=Window.orderBy(col('salary').desc())\n",
        "df_percent_rank_adithya=df.withColumn('percent_rank',percent_rank().over(windowSpec))\n",
        "df_percent_rank_adithya.show()"
      ],
      "metadata": {
        "colab": {
          "base_uri": "https://localhost:8080/"
        },
        "id": "YkpD53y1znnW",
        "outputId": "2f771dd2-fea4-4008-b55c-3ae166e34bff"
      },
      "execution_count": null,
      "outputs": [
        {
          "output_type": "stream",
          "name": "stdout",
          "text": [
            "+---+---------------+----------+---+-------+-------------------+\n",
            "| id|           name|       dob|age| salary|       percent_rank|\n",
            "+---+---------------+----------+---+-------+-------------------+\n",
            "|  6|  Gautam gambir|2024-03-09| 16|96000.0|                0.0|\n",
            "|  8|      John Cena|2024-09-04| 18|25000.0|0.14285714285714285|\n",
            "|  5|Shikha Karmokar|2024-06-07| 10|19000.0| 0.2857142857142857|\n",
            "|  7|Pranav Nagwekar|2024-02-12| 19|15000.0|0.42857142857142855|\n",
            "|  4|    Adithya Ram|2024-04-03| 12| 8500.0| 0.5714285714285714|\n",
            "|  3|     Jake White|2024-06-08| 22| 3600.5| 0.7142857142857143|\n",
            "|  2|     Jane Smith|2024-08-02| 34|2000.75| 0.8571428571428571|\n",
            "|  1|        JohnDoe|2024-08-01| 23| 1000.5|                1.0|\n",
            "+---+---------------+----------+---+-------+-------------------+\n",
            "\n"
          ]
        }
      ]
    },
    {
      "cell_type": "code",
      "source": [
        "#cume_dist\n",
        "from pyspark.sql.functions import cume_dist\n",
        "df_cume_dist_adithya=df.withColumn('cume_dist',cume_dist().over(windowSpec))\n",
        "df_cume_dist_adithya.show()"
      ],
      "metadata": {
        "colab": {
          "base_uri": "https://localhost:8080/"
        },
        "id": "139Dvs6q0Mm_",
        "outputId": "d5f7b14e-c377-46f5-d483-80fcff660ce3"
      },
      "execution_count": null,
      "outputs": [
        {
          "output_type": "stream",
          "name": "stdout",
          "text": [
            "+---+---------------+----------+---+-------+---------+\n",
            "| id|           name|       dob|age| salary|cume_dist|\n",
            "+---+---------------+----------+---+-------+---------+\n",
            "|  6|  Gautam gambir|2024-03-09| 16|96000.0|    0.125|\n",
            "|  8|      John Cena|2024-09-04| 18|25000.0|     0.25|\n",
            "|  5|Shikha Karmokar|2024-06-07| 10|19000.0|    0.375|\n",
            "|  7|Pranav Nagwekar|2024-02-12| 19|15000.0|      0.5|\n",
            "|  4|    Adithya Ram|2024-04-03| 12| 8500.0|    0.625|\n",
            "|  3|     Jake White|2024-06-08| 22| 3600.5|     0.75|\n",
            "|  2|     Jane Smith|2024-08-02| 34|2000.75|    0.875|\n",
            "|  1|        JohnDoe|2024-08-01| 23| 1000.5|      1.0|\n",
            "+---+---------------+----------+---+-------+---------+\n",
            "\n"
          ]
        }
      ]
    },
    {
      "cell_type": "code",
      "source": [
        "#ntile\n",
        "from pyspark.sql.functions import ntile\n",
        "df_ntile_adithya=df.withColumn('ntile',ntile(3).over(windowSpec))\n",
        "df_ntile_adithya.show()"
      ],
      "metadata": {
        "colab": {
          "base_uri": "https://localhost:8080/"
        },
        "id": "-u6RUFE80j_m",
        "outputId": "041623c4-1cb5-4cec-b77d-781474bf9c84"
      },
      "execution_count": null,
      "outputs": [
        {
          "output_type": "stream",
          "name": "stdout",
          "text": [
            "+---+---------------+----------+---+-------+-----+\n",
            "| id|           name|       dob|age| salary|ntile|\n",
            "+---+---------------+----------+---+-------+-----+\n",
            "|  6|  Gautam gambir|2024-03-09| 16|96000.0|    1|\n",
            "|  8|      John Cena|2024-09-04| 18|25000.0|    1|\n",
            "|  5|Shikha Karmokar|2024-06-07| 10|19000.0|    1|\n",
            "|  7|Pranav Nagwekar|2024-02-12| 19|15000.0|    2|\n",
            "|  4|    Adithya Ram|2024-04-03| 12| 8500.0|    2|\n",
            "|  3|     Jake White|2024-06-08| 22| 3600.5|    2|\n",
            "|  2|     Jane Smith|2024-08-02| 34|2000.75|    3|\n",
            "|  1|        JohnDoe|2024-08-01| 23| 1000.5|    3|\n",
            "+---+---------------+----------+---+-------+-----+\n",
            "\n"
          ]
        }
      ]
    },
    {
      "cell_type": "code",
      "source": [
        "#flatten\n",
        "from pyspark.sql.functions import flatten\n",
        "df_flatten_adithya=df.withColumn('flattened_array',flatten(array(array(lit(1),lit(2)),array(lit(3)))))\n",
        "df_flatten_adithya.show()"
      ],
      "metadata": {
        "colab": {
          "base_uri": "https://localhost:8080/"
        },
        "id": "i6r5CKBR02ku",
        "outputId": "5a1305ab-34cb-4c15-c7bb-ee2c15e364ca"
      },
      "execution_count": null,
      "outputs": [
        {
          "output_type": "stream",
          "name": "stdout",
          "text": [
            "+---+---------------+----------+---+-------+---------------+\n",
            "| id|           name|       dob|age| salary|flattened_array|\n",
            "+---+---------------+----------+---+-------+---------------+\n",
            "|  1|        JohnDoe|2024-08-01| 23| 1000.5|      [1, 2, 3]|\n",
            "|  2|     Jane Smith|2024-08-02| 34|2000.75|      [1, 2, 3]|\n",
            "|  3|     Jake White|2024-06-08| 22| 3600.5|      [1, 2, 3]|\n",
            "|  4|    Adithya Ram|2024-04-03| 12| 8500.0|      [1, 2, 3]|\n",
            "|  5|Shikha Karmokar|2024-06-07| 10|19000.0|      [1, 2, 3]|\n",
            "|  6|  Gautam gambir|2024-03-09| 16|96000.0|      [1, 2, 3]|\n",
            "|  7|Pranav Nagwekar|2024-02-12| 19|15000.0|      [1, 2, 3]|\n",
            "|  8|      John Cena|2024-09-04| 18|25000.0|      [1, 2, 3]|\n",
            "+---+---------------+----------+---+-------+---------------+\n",
            "\n"
          ]
        }
      ]
    },
    {
      "cell_type": "code",
      "source": [
        "#grouping_id\n",
        "from pyspark.sql.functions import grouping_id\n",
        "from pyspark.sql import functions as F\n",
        "df_grouping_sets_adithya=df.cube('age','salary').agg(grouping_id().alias('grouping_id'),F.sum(\"salary\"))\n",
        "df_grouping_sets_adithya.show()"
      ],
      "metadata": {
        "colab": {
          "base_uri": "https://localhost:8080/"
        },
        "id": "H0fIuOIc1Sgf",
        "outputId": "48b9e554-e51b-42f9-8c14-abe3618b4ef4"
      },
      "execution_count": null,
      "outputs": [
        {
          "output_type": "stream",
          "name": "stdout",
          "text": [
            "+----+-------+-----------+-----------+\n",
            "| age| salary|grouping_id|sum(salary)|\n",
            "+----+-------+-----------+-----------+\n",
            "|  12| 8500.0|          0|     8500.0|\n",
            "|NULL| 3600.5|          2|     3600.5|\n",
            "|NULL| 1000.5|          2|     1000.5|\n",
            "|  22|   NULL|          1|     3600.5|\n",
            "|  34|   NULL|          1|    2000.75|\n",
            "|NULL| 8500.0|          2|     8500.0|\n",
            "|NULL|   NULL|          3|  170101.75|\n",
            "|  23|   NULL|          1|     1000.5|\n",
            "|  22| 3600.5|          0|     3600.5|\n",
            "|  34|2000.75|          0|    2000.75|\n",
            "|NULL|2000.75|          2|    2000.75|\n",
            "|  23| 1000.5|          0|     1000.5|\n",
            "|  12|   NULL|          1|     8500.0|\n",
            "|  10|19000.0|          0|    19000.0|\n",
            "|NULL|15000.0|          2|    15000.0|\n",
            "|  16|96000.0|          0|    96000.0|\n",
            "|NULL|19000.0|          2|    19000.0|\n",
            "|  10|   NULL|          1|    19000.0|\n",
            "|  16|   NULL|          1|    96000.0|\n",
            "|NULL|96000.0|          2|    96000.0|\n",
            "+----+-------+-----------+-----------+\n",
            "only showing top 20 rows\n",
            "\n"
          ]
        }
      ]
    },
    {
      "cell_type": "code",
      "source": [
        "#rollup\n",
        "df_rollup_adithya = df.rollup(\"age\", \"salary\").count()\n",
        "df_rollup_adithya.show()\n"
      ],
      "metadata": {
        "colab": {
          "base_uri": "https://localhost:8080/"
        },
        "id": "hDMURQrw12de",
        "outputId": "0c60e97b-aba9-48cb-877b-252692458a25"
      },
      "execution_count": null,
      "outputs": [
        {
          "output_type": "stream",
          "name": "stdout",
          "text": [
            "+----+-------+-----+\n",
            "| age| salary|count|\n",
            "+----+-------+-----+\n",
            "|  12| 8500.0|    1|\n",
            "|  22|   NULL|    1|\n",
            "|  34|   NULL|    1|\n",
            "|NULL|   NULL|    8|\n",
            "|  23|   NULL|    1|\n",
            "|  22| 3600.5|    1|\n",
            "|  34|2000.75|    1|\n",
            "|  23| 1000.5|    1|\n",
            "|  12|   NULL|    1|\n",
            "|  10|19000.0|    1|\n",
            "|  16|96000.0|    1|\n",
            "|  10|   NULL|    1|\n",
            "|  16|   NULL|    1|\n",
            "|  19|15000.0|    1|\n",
            "|  18|25000.0|    1|\n",
            "|  18|   NULL|    1|\n",
            "|  19|   NULL|    1|\n",
            "+----+-------+-----+\n",
            "\n"
          ]
        }
      ]
    },
    {
      "cell_type": "code",
      "source": [
        "#corr\n",
        "from pyspark.sql.functions import corr\n",
        "\n",
        "df_corr_adithya= df.select(corr(col(\"age\"), col(\"salary\")))\n",
        "df_corr_adithya.show()\n"
      ],
      "metadata": {
        "colab": {
          "base_uri": "https://localhost:8080/"
        },
        "id": "tfJvk-9V2GHm",
        "outputId": "65e67f57-a71b-4ffe-c5d6-16e15ad1bb61"
      },
      "execution_count": null,
      "outputs": [
        {
          "output_type": "stream",
          "name": "stdout",
          "text": [
            "+-------------------+\n",
            "|  corr(age, salary)|\n",
            "+-------------------+\n",
            "|-0.3301229777407388|\n",
            "+-------------------+\n",
            "\n"
          ]
        }
      ]
    },
    {
      "cell_type": "code",
      "source": [
        "#collect_list\n",
        "from pyspark.sql.functions import collect_list\n",
        "\n",
        "df_all_adithya = df.groupBy(\"age\").agg(collect_list(\"name\").alias(\"names\")).show()\n",
        "df_all_adithya"
      ],
      "metadata": {
        "colab": {
          "base_uri": "https://localhost:8080/"
        },
        "id": "-_Dup5Sv2XZr",
        "outputId": "0e6fdadd-9c87-4543-b354-c9573fcf4185"
      },
      "execution_count": null,
      "outputs": [
        {
          "output_type": "stream",
          "name": "stdout",
          "text": [
            "+---+-----------------+\n",
            "|age|            names|\n",
            "+---+-----------------+\n",
            "| 22|     [Jake White]|\n",
            "| 34|     [Jane Smith]|\n",
            "| 12|    [Adithya Ram]|\n",
            "| 23|        [JohnDoe]|\n",
            "| 19|[Pranav Nagwekar]|\n",
            "| 10|[Shikha Karmokar]|\n",
            "| 18|      [John Cena]|\n",
            "| 16|  [Gautam gambir]|\n",
            "+---+-----------------+\n",
            "\n"
          ]
        }
      ]
    },
    {
      "cell_type": "code",
      "source": [],
      "metadata": {
        "id": "mqdkb8XI2iV6"
      },
      "execution_count": null,
      "outputs": []
    }
  ]
}